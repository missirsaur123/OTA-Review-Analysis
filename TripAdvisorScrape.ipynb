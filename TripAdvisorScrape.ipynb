{
  "nbformat": 4,
  "nbformat_minor": 0,
  "metadata": {
    "colab": {
      "name": "TripAdvisorScrape.ipynb",
      "provenance": []
    },
    "kernelspec": {
      "name": "python3",
      "display_name": "Python 3"
    }
  },
  "cells": [
    {
      "cell_type": "code",
      "metadata": {
        "id": "TlzS9Swg59T5",
        "colab_type": "code",
        "colab": {}
      },
      "source": [
        "import requests\n",
        "from bs4 import BeautifulSoup\n",
        "import pandas as pd\n",
        "import re"
      ],
      "execution_count": 0,
      "outputs": []
    },
    {
      "cell_type": "code",
      "metadata": {
        "id": "q3NzunrV6BQi",
        "colab_type": "code",
        "colab": {
          "base_uri": "https://localhost:8080/",
          "height": 54
        },
        "outputId": "194e236e-5861-4f27-de07-3efd708946d4"
      },
      "source": [
        "hotels={}\n",
        "\n",
        "hotels[\"Holiday Inn Jaipur City Centre-Jaipur\"]=\"https://www.tripadvisor.in/Hotel_Review-g304555-d6648115-Reviews-or10-Holiday_Inn_Jaipur_City_Centre-Jaipur_Jaipur_District_Rajasthan.html#REVIEWS\"\n",
        "hotels[\"Indore Mattiott Hotel-Indore\"]=\"https://www.tripadvisor.in/Hotel_Review-g494941-d488022-Reviews-or10-Indore_Marriott_Hotel-Indore_Indore_District_Madhya_Pradesh.html#REVIEWS\"\n",
        "hotels[\"Raddison Blu Hotel-Nagpur\"]=\"https://www.tripadvisor.in/Hotel_Review-g662323-d3200083-Reviews-or10-Radisson_Blu_Hotel_Nagpur-Nagpur_Nagpur_District_Maharashtra.html#REVIEWS\"\n",
        "hotels[\"Rambagh Palace-Jaipur\"]=\"https://www.tripadvisor.in/Hotel_Review-g304555-d302157-Reviews-or10-Rambagh_Palace-Jaipur_Jaipur_District_Rajasthan.html#REVIEWS\"\n",
        "hotels[\"Sayajji Hotel-Indore\"]=\"https://www.tripadvisor.in/Hotel_Review-g494941-d607023-Reviews-or10-Sayaji_Hotel-Indore_Indore_District_Madhya_Pradesh.html#REVIEWS\"\n",
        "hotels[\"Taj Santacruz-Mumbai\"]=\"https://www.tripadvisor.in/Hotel_Review-g304554-d9776549-Reviews-or10-Taj_Santacruz-Mumbai_Maharashtra.html#REVIEWS\"\n",
        "hotels[\"Dolphin Hotel-Vizag\"]=\"https://www.tripadvisor.in/Hotel_Review-g297588-d477866-Reviews-or10-Dolphin_Hotel-Visakhapatnam_Visakhapatnam_District_Andhra_Pradesh.html#REVIEWS\"\n",
        "hotels[\"Cidade De Goa-North Goa District\"]=\"https://www.tripadvisor.in/Hotel_Review-g1087527-d307509-Reviews-or10-Cidade_De_Goa_IHCL_SeleQtions-Dona_Paula_North_Goa_District_Goa.html#REVIEWS\"\n",
        "hotels[\"ITC Sonar-Kolkata\"]=\"https://www.tripadvisor.in/Hotel_Review-g304558-d301775-Reviews-or10-ITC_Sonar_Kolkata_a_Luxury_Collection_Hotel-Kolkata_Calcutta_Kolkata_District_West.html#REVIEWS\"\n",
        "hotels[\"Lemon Tree Hotel-Indore\"]=\"https://www.tripadvisor.in/Hotel_Review-g494941-d589545-Reviews-or10-Lemon_Tree_Hotel_Indore-Indore_Indore_District_Madhya_Pradesh.html#REVIEWS\"\n",
        "hotels[\"Hotel Chanakya-Patna\"]=\"https://www.tripadvisor.in/Hotel_Review-g297592-d454844-Reviews-or10-Hotel_Chanakya-Patna_Patna_District_Bihar.html#REVIEWS\"\n",
        "hotels[\"ITC Grand Goa-South Goa District\"]=\"https://www.tripadvisor.in/Hotel_Review-g312681-d307512-Reviews-or10-ITC_Grand_Goa_A_Luxury_Collection_Resort_Spa-Cansaulim_South_Goa_District_Goa.html#REVIEWS\"\n",
        "hotels[\"Trident Nariman Point-Mumbai\"]=\"https://www.tripadvisor.in/Hotel_Review-g304554-d472105-Reviews-or10-Trident_Nariman_Point-Mumbai_Maharashtra.html#REVIEWS\"\n",
        "hotels[\"Swissotel Kolkata-Kolkata\"]=\"https://www.tripadvisor.in/Hotel_Review-g304558-d1729469-Reviews-or10-Swissotel_Kolkata-Kolkata_Calcutta_Kolkata_District_West_Bengal.html#REVIEWS\"\n",
        "\"\"\"hotels[\"Lalit-Mumbai\"] =\"https://www.tripadvisor.in/Hotel_Review-g304554-d299124-Reviews-or10-The_Lalit_Mumbai-Mumbai_Maharashtra.html#REVIEWS\"\n",
        "\n",
        "hotels[\"The Oberoi Cecil-Shimla\"]=\"https://www.tripadvisor.in/Hotel_Review-g304552-d304233-Reviews-or10-The_Oberoi_Cecil_Shimla-Shimla_Shimla_District_Himachal_Pradesh.html#REVIEWS\"\n",
        "hotels[\"Hyatt Regency-Delhi\"]=\"https://www.tripadvisor.in/Hotel_Review-g304551-d306931-Reviews-or10-Hyatt_Regency_Delhi-New_Delhi_National_Capital_Territory_of_Delhi.html#REVIEWS\"\n",
        "hotels[\"The Leela-Mumbai\"] =\"https://www.tripadvisor.in/Hotel_Review-g304554-d302176-Reviews-or10-The_Leela_Mumbai-Mumbai_Maharashtra.html#REVIEWS\"\n",
        "hotels[\"Taj Mahal-Lucknow\"]=\"https://www.tripadvisor.in/Hotel_Review-g297684-d305014-Reviews-or10-Taj_Mahal_Lucknow-Lucknow_Lucknow_District_Uttar_Pradesh.html\"\n",
        "hotels[\"Novotel Hyderabad Convention Centre-Hyderabad\"] =\"https://www.tripadvisor.in/Hotel_Review-g297586-d613223-Reviews-or10-Novotel_Hyderabad_Convention_Centre-Hyderabad_Hyderabad_District_Telangana.html#REVIEWS\"\n",
        "hotels[\"The Park-Delhi\"]=\"https://www.tripadvisor.in/Hotel_Review-g304551-d302332-Reviews-or10-The_Park_New_Delhi-New_Delhi_National_Capital_Territory_of_Delhi.html#REVIEWS\"\n",
        "hotels[\"Jehan Numa Palace Hotel-Bhopal\"]=\"https://www.tripadvisor.in/Hotel_Review-g319726-d386918-Reviews-or10-Jehan_Numa_Palace_Hotel-Bhopal_Bhopal_District_Madhya_Pradesh.html#REVIEWS\"\n",
        "hotels[\"JW Marriott Hotel-Chandigarh\"]=\"https://www.tripadvisor.in/Hotel_Review-g297596-d2065676-Reviews-or10-JW_Marriott_Hotel_Chandigarh-Chandigarh.html#REVIEWS\"\n",
        "hotels[\"ITC Grand Central-Mumbai\"]=\"https://www.tripadvisor.in/Hotel_Review-g304554-d503409-Reviews-or10-ITC_Grand_Central_Mumbai_a_Luxury_Collection_Hotel-Mumbai_Maharashtra.html#REVIEWS\"\n",
        "hotels[\"Raddison Hotel-Shimla\"]=\"https://www.tripadvisor.in/Hotel_Review-g304552-d582837-Reviews-or10-Radisson_Hotel_Shimla-Shimla_Shimla_District_Himachal_Pradesh.html#REVIEWS\"\n",
        "hotels[\"Taj Krishna-Hyderabad\"]=\"https://www.tripadvisor.in/Hotel_Review-g297586-d304843-Reviews-or10-Taj_Krishna_Hyderabad-Hyderabad_Hyderabad_District_Telangana.html#REVIEWS\"\n",
        "hotels[\"Le Meridien-Delhi\"]=\"https://www.tripadvisor.in/Hotel_Review-g304551-d301904-Reviews-or10-Le_Meridien_New_Delhi-New_Delhi_National_Capital_Territory_of_Delhi.html#REVIEWS\"\n",
        "hotels[\"Taj-Chandigarh\"]=\"https://www.tripadvisor.in/Hotel_Review-g297596-d575986-Reviews-or10-Taj_Chandigarh-Chandigarh.html#REVIEWS\" \"\"\""
      ],
      "execution_count": 14,
      "outputs": [
        {
          "output_type": "execute_result",
          "data": {
            "text/plain": [
              "'hotels[\"Lalit-Mumbai\"] =\"https://www.tripadvisor.in/Hotel_Review-g304554-d299124-Reviews-or10-The_Lalit_Mumbai-Mumbai_Maharashtra.html#REVIEWS\"\\n\\nhotels[\"The Oberoi Cecil-Shimla\"]=\"https://www.tripadvisor.in/Hotel_Review-g304552-d304233-Reviews-or10-The_Oberoi_Cecil_Shimla-Shimla_Shimla_District_Himachal_Pradesh.html#REVIEWS\"\\nhotels[\"Hyatt Regency-Delhi\"]=\"https://www.tripadvisor.in/Hotel_Review-g304551-d306931-Reviews-or10-Hyatt_Regency_Delhi-New_Delhi_National_Capital_Territory_of_Delhi.html#REVIEWS\"\\nhotels[\"The Leela-Mumbai\"] =\"https://www.tripadvisor.in/Hotel_Review-g304554-d302176-Reviews-or10-The_Leela_Mumbai-Mumbai_Maharashtra.html#REVIEWS\"\\nhotels[\"Taj Mahal-Lucknow\"]=\"https://www.tripadvisor.in/Hotel_Review-g297684-d305014-Reviews-or10-Taj_Mahal_Lucknow-Lucknow_Lucknow_District_Uttar_Pradesh.html\"\\nhotels[\"Novotel Hyderabad Convention Centre-Hyderabad\"] =\"https://www.tripadvisor.in/Hotel_Review-g297586-d613223-Reviews-or10-Novotel_Hyderabad_Convention_Centre-Hyderabad_Hyderabad_District_Telangana.html#REVIEWS\"\\nhotels[\"The Park-Delhi\"]=\"https://www.tripadvisor.in/Hotel_Review-g304551-d302332-Reviews-or10-The_Park_New_Delhi-New_Delhi_National_Capital_Territory_of_Delhi.html#REVIEWS\"\\nhotels[\"Jehan Numa Palace Hotel-Bhopal\"]=\"https://www.tripadvisor.in/Hotel_Review-g319726-d386918-Reviews-or10-Jehan_Numa_Palace_Hotel-Bhopal_Bhopal_District_Madhya_Pradesh.html#REVIEWS\"\\nhotels[\"JW Marriott Hotel-Chandigarh\"]=\"https://www.tripadvisor.in/Hotel_Review-g297596-d2065676-Reviews-or10-JW_Marriott_Hotel_Chandigarh-Chandigarh.html#REVIEWS\"\\nhotels[\"ITC Grand Central-Mumbai\"]=\"https://www.tripadvisor.in/Hotel_Review-g304554-d503409-Reviews-or10-ITC_Grand_Central_Mumbai_a_Luxury_Collection_Hotel-Mumbai_Maharashtra.html#REVIEWS\"\\nhotels[\"Raddison Hotel-Shimla\"]=\"https://www.tripadvisor.in/Hotel_Review-g304552-d582837-Reviews-or10-Radisson_Hotel_Shimla-Shimla_Shimla_District_Himachal_Pradesh.html#REVIEWS\"\\nhotels[\"Taj Krishna-Hyderabad\"]=\"https://www.tripadvisor.in/Hotel_Review-g297586-d304843-Reviews-or10-Taj_Krishna_Hyderabad-Hyderabad_Hyderabad_District_Telangana.html#REVIEWS\"\\nhotels[\"Le Meridien-Delhi\"]=\"https://www.tripadvisor.in/Hotel_Review-g304551-d301904-Reviews-or10-Le_Meridien_New_Delhi-New_Delhi_National_Capital_Territory_of_Delhi.html#REVIEWS\"\\nhotels[\"Taj-Chandigarh\"]=\"https://www.tripadvisor.in/Hotel_Review-g297596-d575986-Reviews-or10-Taj_Chandigarh-Chandigarh.html#REVIEWS\" '"
            ]
          },
          "metadata": {
            "tags": []
          },
          "execution_count": 14
        }
      ]
    },
    {
      "cell_type": "code",
      "metadata": {
        "id": "bkBDkQgY7pub",
        "colab_type": "code",
        "colab": {}
      },
      "source": [
        "def find_review(unit):\n",
        "\n",
        "  result = unit.find(\"q\",attrs={\"class\",\"location-review-review-list-parts-ExpandableReview__reviewText--gOmRC\"})\n",
        "\n",
        "  if(result.find(\"span\")):\n",
        "    review=result.find(\"span\").text\n",
        "\n",
        "  else:\n",
        "    review=None\n",
        "\n",
        "  return(review)"
      ],
      "execution_count": 0,
      "outputs": []
    },
    {
      "cell_type": "code",
      "metadata": {
        "id": "uDmWdzjT9xvg",
        "colab_type": "code",
        "colab": {}
      },
      "source": [
        "def find_review_title(unit):\n",
        "\n",
        "  result = unit.find(\"a\",attrs={\"class\",\"location-review-review-list-parts-ReviewTitle__reviewTitleText--2tFRT\"})\n",
        "\n",
        "  if(result.find(\"span\")):\n",
        "    review_title=result.find(\"span\").text\n",
        "\n",
        "  else:\n",
        "    review_title=None\n",
        "\n",
        "\n",
        "  return(review_title)\n"
      ],
      "execution_count": 0,
      "outputs": []
    },
    {
      "cell_type": "code",
      "metadata": {
        "id": "MWg9hQiw7qHa",
        "colab_type": "code",
        "colab": {}
      },
      "source": [
        "def find_date(unit):\n",
        "\n",
        "  result = unit.find(\"div\",attrs={\"class\",\"hotels-community-tab-reviews-ReviewsTabContent__footer--2FHIK\"})\n",
        "\n",
        "  if(result.find(\"span\",attrs={\"class\",\"location-review-review-list-parts-EventDate__event_date--1epHa\"})):\n",
        "    date=result.find(\"span\",attrs={\"class\",\"location-review-review-list-parts-EventDate__event_date--1epHa\"}).text.partition(\":\")[-1]\n",
        "    \n",
        "  else:\n",
        "    date=None\n",
        "    \n",
        "  return(date)"
      ],
      "execution_count": 0,
      "outputs": []
    },
    {
      "cell_type": "code",
      "metadata": {
        "id": "gqKoxSHmAzoX",
        "colab_type": "code",
        "colab": {}
      },
      "source": [
        "def find_rating(unit):\n",
        "\n",
        "  result = unit.find(\"span\",attrs={\"class\",re.compile('^ui_bubble_rating*')})\n",
        "  start= str(result).partition(\" bubble_\")[-1]\n",
        "  rating=float(start[0:2])/10\n",
        "\n",
        "  return(rating)"
      ],
      "execution_count": 0,
      "outputs": []
    },
    {
      "cell_type": "code",
      "metadata": {
        "id": "mh6NRZ_r7qdu",
        "colab_type": "code",
        "colab": {}
      },
      "source": [
        "review_file=[]"
      ],
      "execution_count": 0,
      "outputs": []
    },
    {
      "cell_type": "code",
      "metadata": {
        "id": "UNkBIqmQ6ZbG",
        "colab_type": "code",
        "outputId": "e196b071-02e4-429f-9de2-edc8d61dd610",
        "colab": {
          "base_uri": "https://localhost:8080/",
          "height": 252
        }
      },
      "source": [
        "for name in hotels:\n",
        "\n",
        "  hotel_name=name.partition(\"-\")[0]\n",
        "  hotel_city=name.partition(\"-\")[2]\n",
        "  k=0\n",
        "  URL=hotels[name]\n",
        "  while(k<160):\n",
        "\n",
        "    parts=URL.partition(\"-or10\")\n",
        "    newurl=parts[0]+'-or'+ str(5*k)+parts[2]\n",
        "    k=k+1\n",
        "    headers = {'User-Agent': 'Mozilla/5.0 (Windows NT 6.3; Win64; x64) AppleWebKit/537.36 (KHTML, like Gecko) Chrome/54.0.2840.71 Safari/537.36'}\n",
        "\n",
        "    try:\n",
        "            response = requests.get(newurl, headers=headers)\n",
        "    except requests.exceptions.RequestException as e:\n",
        "            print(e)\n",
        "            miss +=1\n",
        "            exit()\n",
        "    soup = BeautifulSoup(response.content, 'html.parser')\n",
        "    units=soup.find_all(\"div\",attrs={\"class\",\"hotels-community-tab-common-Card__card--ihfZB hotels-community-tab-common-Card__section--4r93H\"})\n",
        "    for unit in units :\n",
        "      review=find_review(unit)\n",
        "      review_title=find_review_title(unit)\n",
        "      date=find_date(unit)\n",
        "      rating=find_rating(unit)\n",
        "      review_file.append([hotel_name,hotel_city,date,review_title,review,rating])\n",
        "\n",
        "  print(\"{} of {} city completed\".format(hotel_name,hotel_city))"
      ],
      "execution_count": 20,
      "outputs": [
        {
          "output_type": "stream",
          "text": [
            "Holiday Inn Jaipur City Centre of Jaipur city completed\n",
            "Indore Mattiott Hotel of Indore city completed\n",
            "Raddison Blu Hotel of Nagpur city completed\n",
            "Rambagh Palace of Jaipur city completed\n",
            "Sayajji Hotel of Indore city completed\n",
            "Taj Santacruz of Mumbai city completed\n",
            "Dolphin Hotel of Vizag city completed\n",
            "Cidade De Goa of North Goa District city completed\n",
            "ITC Sonar of Kolkata city completed\n",
            "Lemon Tree Hotel of Indore city completed\n",
            "Hotel Chanakya of Patna city completed\n",
            "ITC Grand Goa of South Goa District city completed\n",
            "Trident Nariman Point of Mumbai city completed\n",
            "Swissotel Kolkata of Kolkata city completed\n"
          ],
          "name": "stdout"
        }
      ]
    },
    {
      "cell_type": "code",
      "metadata": {
        "id": "GbkV-DCHAeWo",
        "colab_type": "code",
        "outputId": "49a3f86b-4adb-4dd0-abfb-dc3ce7bd8025",
        "colab": {
          "base_uri": "https://localhost:8080/",
          "height": 34
        }
      },
      "source": [
        "print(len(review_file))\n"
      ],
      "execution_count": 21,
      "outputs": [
        {
          "output_type": "stream",
          "text": [
            "11012\n"
          ],
          "name": "stdout"
        }
      ]
    },
    {
      "cell_type": "code",
      "metadata": {
        "id": "8G_dGYatCeux",
        "colab_type": "code",
        "colab": {
          "base_uri": "https://localhost:8080/",
          "height": 471
        },
        "outputId": "05dd86ec-3e4c-4532-e2fe-985706dd8306"
      },
      "source": [
        "old_df=pd.read_csv(\"TripAdvisorReviews.csv\")"
      ],
      "execution_count": 23,
      "outputs": [
        {
          "output_type": "error",
          "ename": "ParserError",
          "evalue": "ignored",
          "traceback": [
            "\u001b[0;31m---------------------------------------------------------------------------\u001b[0m",
            "\u001b[0;31mParserError\u001b[0m                               Traceback (most recent call last)",
            "\u001b[0;32m<ipython-input-23-950f5dfdf941>\u001b[0m in \u001b[0;36m<module>\u001b[0;34m()\u001b[0m\n\u001b[0;32m----> 1\u001b[0;31m \u001b[0mold_df\u001b[0m\u001b[0;34m=\u001b[0m\u001b[0mpd\u001b[0m\u001b[0;34m.\u001b[0m\u001b[0mread_csv\u001b[0m\u001b[0;34m(\u001b[0m\u001b[0;34m\"TripAdvisorReviews.csv\"\u001b[0m\u001b[0;34m)\u001b[0m\u001b[0;34m\u001b[0m\u001b[0;34m\u001b[0m\u001b[0m\n\u001b[0m",
            "\u001b[0;32m/usr/local/lib/python3.6/dist-packages/pandas/io/parsers.py\u001b[0m in \u001b[0;36mparser_f\u001b[0;34m(filepath_or_buffer, sep, delimiter, header, names, index_col, usecols, squeeze, prefix, mangle_dupe_cols, dtype, engine, converters, true_values, false_values, skipinitialspace, skiprows, skipfooter, nrows, na_values, keep_default_na, na_filter, verbose, skip_blank_lines, parse_dates, infer_datetime_format, keep_date_col, date_parser, dayfirst, cache_dates, iterator, chunksize, compression, thousands, decimal, lineterminator, quotechar, quoting, doublequote, escapechar, comment, encoding, dialect, error_bad_lines, warn_bad_lines, delim_whitespace, low_memory, memory_map, float_precision)\u001b[0m\n\u001b[1;32m    674\u001b[0m         )\n\u001b[1;32m    675\u001b[0m \u001b[0;34m\u001b[0m\u001b[0m\n\u001b[0;32m--> 676\u001b[0;31m         \u001b[0;32mreturn\u001b[0m \u001b[0m_read\u001b[0m\u001b[0;34m(\u001b[0m\u001b[0mfilepath_or_buffer\u001b[0m\u001b[0;34m,\u001b[0m \u001b[0mkwds\u001b[0m\u001b[0;34m)\u001b[0m\u001b[0;34m\u001b[0m\u001b[0;34m\u001b[0m\u001b[0m\n\u001b[0m\u001b[1;32m    677\u001b[0m \u001b[0;34m\u001b[0m\u001b[0m\n\u001b[1;32m    678\u001b[0m     \u001b[0mparser_f\u001b[0m\u001b[0;34m.\u001b[0m\u001b[0m__name__\u001b[0m \u001b[0;34m=\u001b[0m \u001b[0mname\u001b[0m\u001b[0;34m\u001b[0m\u001b[0;34m\u001b[0m\u001b[0m\n",
            "\u001b[0;32m/usr/local/lib/python3.6/dist-packages/pandas/io/parsers.py\u001b[0m in \u001b[0;36m_read\u001b[0;34m(filepath_or_buffer, kwds)\u001b[0m\n\u001b[1;32m    452\u001b[0m \u001b[0;34m\u001b[0m\u001b[0m\n\u001b[1;32m    453\u001b[0m     \u001b[0;32mtry\u001b[0m\u001b[0;34m:\u001b[0m\u001b[0;34m\u001b[0m\u001b[0;34m\u001b[0m\u001b[0m\n\u001b[0;32m--> 454\u001b[0;31m         \u001b[0mdata\u001b[0m \u001b[0;34m=\u001b[0m \u001b[0mparser\u001b[0m\u001b[0;34m.\u001b[0m\u001b[0mread\u001b[0m\u001b[0;34m(\u001b[0m\u001b[0mnrows\u001b[0m\u001b[0;34m)\u001b[0m\u001b[0;34m\u001b[0m\u001b[0;34m\u001b[0m\u001b[0m\n\u001b[0m\u001b[1;32m    455\u001b[0m     \u001b[0;32mfinally\u001b[0m\u001b[0;34m:\u001b[0m\u001b[0;34m\u001b[0m\u001b[0;34m\u001b[0m\u001b[0m\n\u001b[1;32m    456\u001b[0m         \u001b[0mparser\u001b[0m\u001b[0;34m.\u001b[0m\u001b[0mclose\u001b[0m\u001b[0;34m(\u001b[0m\u001b[0;34m)\u001b[0m\u001b[0;34m\u001b[0m\u001b[0;34m\u001b[0m\u001b[0m\n",
            "\u001b[0;32m/usr/local/lib/python3.6/dist-packages/pandas/io/parsers.py\u001b[0m in \u001b[0;36mread\u001b[0;34m(self, nrows)\u001b[0m\n\u001b[1;32m   1131\u001b[0m     \u001b[0;32mdef\u001b[0m \u001b[0mread\u001b[0m\u001b[0;34m(\u001b[0m\u001b[0mself\u001b[0m\u001b[0;34m,\u001b[0m \u001b[0mnrows\u001b[0m\u001b[0;34m=\u001b[0m\u001b[0;32mNone\u001b[0m\u001b[0;34m)\u001b[0m\u001b[0;34m:\u001b[0m\u001b[0;34m\u001b[0m\u001b[0;34m\u001b[0m\u001b[0m\n\u001b[1;32m   1132\u001b[0m         \u001b[0mnrows\u001b[0m \u001b[0;34m=\u001b[0m \u001b[0m_validate_integer\u001b[0m\u001b[0;34m(\u001b[0m\u001b[0;34m\"nrows\"\u001b[0m\u001b[0;34m,\u001b[0m \u001b[0mnrows\u001b[0m\u001b[0;34m)\u001b[0m\u001b[0;34m\u001b[0m\u001b[0;34m\u001b[0m\u001b[0m\n\u001b[0;32m-> 1133\u001b[0;31m         \u001b[0mret\u001b[0m \u001b[0;34m=\u001b[0m \u001b[0mself\u001b[0m\u001b[0;34m.\u001b[0m\u001b[0m_engine\u001b[0m\u001b[0;34m.\u001b[0m\u001b[0mread\u001b[0m\u001b[0;34m(\u001b[0m\u001b[0mnrows\u001b[0m\u001b[0;34m)\u001b[0m\u001b[0;34m\u001b[0m\u001b[0;34m\u001b[0m\u001b[0m\n\u001b[0m\u001b[1;32m   1134\u001b[0m \u001b[0;34m\u001b[0m\u001b[0m\n\u001b[1;32m   1135\u001b[0m         \u001b[0;31m# May alter columns / col_dict\u001b[0m\u001b[0;34m\u001b[0m\u001b[0;34m\u001b[0m\u001b[0;34m\u001b[0m\u001b[0m\n",
            "\u001b[0;32m/usr/local/lib/python3.6/dist-packages/pandas/io/parsers.py\u001b[0m in \u001b[0;36mread\u001b[0;34m(self, nrows)\u001b[0m\n\u001b[1;32m   2035\u001b[0m     \u001b[0;32mdef\u001b[0m \u001b[0mread\u001b[0m\u001b[0;34m(\u001b[0m\u001b[0mself\u001b[0m\u001b[0;34m,\u001b[0m \u001b[0mnrows\u001b[0m\u001b[0;34m=\u001b[0m\u001b[0;32mNone\u001b[0m\u001b[0;34m)\u001b[0m\u001b[0;34m:\u001b[0m\u001b[0;34m\u001b[0m\u001b[0;34m\u001b[0m\u001b[0m\n\u001b[1;32m   2036\u001b[0m         \u001b[0;32mtry\u001b[0m\u001b[0;34m:\u001b[0m\u001b[0;34m\u001b[0m\u001b[0;34m\u001b[0m\u001b[0m\n\u001b[0;32m-> 2037\u001b[0;31m             \u001b[0mdata\u001b[0m \u001b[0;34m=\u001b[0m \u001b[0mself\u001b[0m\u001b[0;34m.\u001b[0m\u001b[0m_reader\u001b[0m\u001b[0;34m.\u001b[0m\u001b[0mread\u001b[0m\u001b[0;34m(\u001b[0m\u001b[0mnrows\u001b[0m\u001b[0;34m)\u001b[0m\u001b[0;34m\u001b[0m\u001b[0;34m\u001b[0m\u001b[0m\n\u001b[0m\u001b[1;32m   2038\u001b[0m         \u001b[0;32mexcept\u001b[0m \u001b[0mStopIteration\u001b[0m\u001b[0;34m:\u001b[0m\u001b[0;34m\u001b[0m\u001b[0;34m\u001b[0m\u001b[0m\n\u001b[1;32m   2039\u001b[0m             \u001b[0;32mif\u001b[0m \u001b[0mself\u001b[0m\u001b[0;34m.\u001b[0m\u001b[0m_first_chunk\u001b[0m\u001b[0;34m:\u001b[0m\u001b[0;34m\u001b[0m\u001b[0;34m\u001b[0m\u001b[0m\n",
            "\u001b[0;32mpandas/_libs/parsers.pyx\u001b[0m in \u001b[0;36mpandas._libs.parsers.TextReader.read\u001b[0;34m()\u001b[0m\n",
            "\u001b[0;32mpandas/_libs/parsers.pyx\u001b[0m in \u001b[0;36mpandas._libs.parsers.TextReader._read_low_memory\u001b[0;34m()\u001b[0m\n",
            "\u001b[0;32mpandas/_libs/parsers.pyx\u001b[0m in \u001b[0;36mpandas._libs.parsers.TextReader._read_rows\u001b[0;34m()\u001b[0m\n",
            "\u001b[0;32mpandas/_libs/parsers.pyx\u001b[0m in \u001b[0;36mpandas._libs.parsers.TextReader._tokenize_rows\u001b[0;34m()\u001b[0m\n",
            "\u001b[0;32mpandas/_libs/parsers.pyx\u001b[0m in \u001b[0;36mpandas._libs.parsers.raise_parser_error\u001b[0;34m()\u001b[0m\n",
            "\u001b[0;31mParserError\u001b[0m: Error tokenizing data. C error: Buffer overflow caught - possible malformed input file.\n"
          ]
        }
      ]
    },
    {
      "cell_type": "code",
      "metadata": {
        "id": "iBqi8fJAKAji",
        "colab_type": "code",
        "outputId": "ba5ac13a-985c-47fc-8580-5b011ecb0984",
        "colab": {
          "base_uri": "https://localhost:8080/",
          "height": 252
        }
      },
      "source": [
        "review_df=pd.DataFrame(review_file)\n",
        "review_df.columns=[\"Hotel Name\",\"Hotel City\",\"Date of Stay\",\"Review Title\",\"Review\",\"Rating\"]\n",
        "print(review_df)"
      ],
      "execution_count": 24,
      "outputs": [
        {
          "output_type": "stream",
          "text": [
            "                           Hotel Name  ... Rating\n",
            "0      Holiday Inn Jaipur City Centre  ...    5.0\n",
            "1      Holiday Inn Jaipur City Centre  ...    5.0\n",
            "2      Holiday Inn Jaipur City Centre  ...    5.0\n",
            "3      Holiday Inn Jaipur City Centre  ...    5.0\n",
            "4      Holiday Inn Jaipur City Centre  ...    5.0\n",
            "...                               ...  ...    ...\n",
            "11007               Swissotel Kolkata  ...    5.0\n",
            "11008               Swissotel Kolkata  ...    5.0\n",
            "11009               Swissotel Kolkata  ...    5.0\n",
            "11010               Swissotel Kolkata  ...    5.0\n",
            "11011               Swissotel Kolkata  ...    5.0\n",
            "\n",
            "[11012 rows x 6 columns]\n"
          ],
          "name": "stdout"
        }
      ]
    },
    {
      "cell_type": "code",
      "metadata": {
        "id": "15fkJzLww5eU",
        "colab_type": "code",
        "colab": {
          "base_uri": "https://localhost:8080/",
          "height": 34
        },
        "outputId": "efe69415-b1a6-454a-c4f5-55b879447e01"
      },
      "source": [
        "print(review_df[\"Rating\"].nunique())"
      ],
      "execution_count": 25,
      "outputs": [
        {
          "output_type": "stream",
          "text": [
            "5\n"
          ],
          "name": "stdout"
        }
      ]
    },
    {
      "cell_type": "code",
      "metadata": {
        "id": "DjySxOGvKSaK",
        "colab_type": "code",
        "colab": {}
      },
      "source": [
        "review_df.to_csv(\"TripAdvisorReviews2.csv\")"
      ],
      "execution_count": 0,
      "outputs": []
    }
  ]
}