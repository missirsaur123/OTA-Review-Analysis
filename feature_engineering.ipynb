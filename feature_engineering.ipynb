{
 "cells": [
  {
   "cell_type": "code",
   "execution_count": 70,
   "metadata": {},
   "outputs": [],
   "source": [
    "import numpy as np\n",
    "import pandas as pd\n",
    "import re\n",
    "from nltk.corpus import stopwords\n",
    "from nltk import word_tokenize\n",
    "stop_words = stopwords.words('english')\n",
    "stop_words.extend(['the','and','is','was','of','in','very','with','we','it','also','very','this'])"
   ]
  },
  {
   "cell_type": "code",
   "execution_count": 67,
   "metadata": {},
   "outputs": [],
   "source": [
    "from PIL import Image\n",
    "from wordcloud import WordCloud, STOPWORDS, ImageColorGenerator\n",
    "\n",
    "import matplotlib.pyplot as plt\n",
    "%matplotlib inline\n",
    "\n",
    "import seaborn as sns"
   ]
  },
  {
   "cell_type": "code",
   "execution_count": 3,
   "metadata": {},
   "outputs": [],
   "source": [
    "df=pd.read_csv(\"TripAdvisorReviewsFinal.csv\",delimiter=',',lineterminator='\\n')"
   ]
  },
  {
   "cell_type": "code",
   "execution_count": 4,
   "metadata": {},
   "outputs": [
    {
     "name": "stdout",
     "output_type": "stream",
     "text": [
      "Index(['Hotel Name', 'Hotel City', 'Date of Stay', 'Review Title', 'Review',\n",
      "       'Rating'],\n",
      "      dtype='object')\n"
     ]
    }
   ],
   "source": [
    "df.drop(['Unnamed: 0'],axis=1,inplace=True)\n",
    "print(df.columns)"
   ]
  },
  {
   "cell_type": "code",
   "execution_count": 5,
   "metadata": {},
   "outputs": [
    {
     "name": "stdout",
     "output_type": "stream",
     "text": [
      "(27987, 6)\n"
     ]
    }
   ],
   "source": [
    "df = df.sample(frac=1).reset_index(drop=True)\n",
    "print(df.shape)"
   ]
  },
  {
   "cell_type": "code",
   "execution_count": 121,
   "metadata": {
    "tags": [
     "outputPrepend"
    ]
   },
   "outputs": [
    {
     "name": "stdout",
     "output_type": "stream",
     "text": [
      "                Hotel Name Hotel City    Date of Stay  \\\n",
      "0       Raddison Blu Hotel     Nagpur   December 2017   \n",
      "1                Taj Mahal    Lucknow    January 2019   \n",
      "2           Hotel Chanakya      Patna      April 2011   \n",
      "3            Sayajji Hotel     Indore   February 2020   \n",
      "4  Jehan Numa Palace Hotel     Bhopal   November 2016   \n",
      "\n",
      "                                        Review Title  \\\n",
      "0                               Outstanding by Miles   \n",
      "1                Special Thanks To Taj Mahal Lucknow   \n",
      "2  UNEXPECTEDLY COMFORTABLE STAY IN PATNA WITH GR...   \n",
      "3                                     Just wonderful   \n",
      "4  nice service, nice food, and a dose of royality..   \n",
      "\n",
      "                                              Review  Rating  Word Count  \\\n",
      "0  Its a great Hotel, wonderful Hospitality, all ...     5.0          46   \n",
      "1  We would like to take this opportunity to expr...     5.0          68   \n",
      "2  First thing the look of the hotel is superb,. ...     4.0          51   \n",
      "3  Sayaji's hospitality is beyond comparable. Thi...     5.0          60   \n",
      "4  first thing you will notice in the hotel is th...     4.0          58   \n",
      "\n",
      "   Character Count  Stopwords Count  Special Character Count  Numerics Count  \\\n",
      "0              237               19                       45               0   \n",
      "1              395               21                       69               0   \n",
      "2              246               21                       52               0   \n",
      "3              280               18                       58               2   \n",
      "4              309               23                       59               0   \n",
      "\n",
      "   UpperCase Count  Year     Month Review Sentiment  \\\n",
      "0               10  2017  December         Positive   \n",
      "1               16  2019   January         Positive   \n",
      "2                6  2011     April          Neutral   \n",
      "3                8  2020  February         Positive   \n",
      "4                0  2016  November         Positive   \n",
      "\n",
      "                                   Lemmatized Review  \n",
      "0  great hotel wonderful hospitality smile reason...  \n",
      "1  would like take opportunity express heartfelt ...  \n",
      "2  first thing look hotel superb food drink taksh...  \n",
      "3  sayaji 's hospitality beyond comparable 4th vi...  \n",
      "4  first thing notice hotel sincerity courtesy st...  \n"
     ]
    }
   ],
   "source": [
    "print(df.head())"
   ]
  },
  {
   "cell_type": "code",
   "execution_count": 7,
   "metadata": {},
   "outputs": [],
   "source": [
    "df[\"Word Count\"]=df[\"Review\"].apply(lambda x: len(word_tokenize(x)))\n"
   ]
  },
  {
   "cell_type": "code",
   "execution_count": 122,
   "metadata": {},
   "outputs": [
    {
     "name": "stdout",
     "output_type": "stream",
     "text": [
      "0    46\n",
      "1    68\n",
      "2    51\n",
      "3    60\n",
      "4    58\n",
      "Name: Word Count, dtype: int64\n"
     ]
    }
   ],
   "source": [
    "print(df[\"Word Count\"][:5])"
   ]
  },
  {
   "cell_type": "code",
   "execution_count": 123,
   "metadata": {},
   "outputs": [
    {
     "name": "stdout",
     "output_type": "stream",
     "text": [
      "0    237\n",
      "1    395\n",
      "2    246\n",
      "3    280\n",
      "4    309\n",
      "Name: Character Count, dtype: int64\n"
     ]
    }
   ],
   "source": [
    "df[\"Character Count\"]=df[\"Review\"].apply(lambda x: len(x))\n",
    "print(df[\"Character Count\"][:5])"
   ]
  },
  {
   "cell_type": "code",
   "execution_count": 13,
   "metadata": {},
   "outputs": [],
   "source": [
    "def stop_word_count(text):\n",
    "    c=0\n",
    "    for w in text.split(' '):\n",
    "        if w in stop_words:\n",
    "            c+=1\n",
    "\n",
    "    return(c)"
   ]
  },
  {
   "cell_type": "code",
   "execution_count": 120,
   "metadata": {},
   "outputs": [
    {
     "name": "stdout",
     "output_type": "stream",
     "text": [
      "0    19\n",
      "1    21\n",
      "2    21\n",
      "3    18\n",
      "4    23\n",
      "Name: Stopwords Count, dtype: int64\n"
     ]
    }
   ],
   "source": [
    "df[\"Stopwords Count\"]=df[\"Review\"].apply(lambda x: stop_word_count(x))\n",
    "print(df[\"Stopwords Count\"][:5])"
   ]
  },
  {
   "cell_type": "code",
   "execution_count": 15,
   "metadata": {},
   "outputs": [],
   "source": [
    "def count_special_characters(text):\n",
    "    c=0\n",
    "    for i in range(len(text)):\n",
    "        ch=text[i]\n",
    "        if(ch.isalnum() == False):\n",
    "                c+=1\n",
    "\n",
    "    return(c)"
   ]
  },
  {
   "cell_type": "code",
   "execution_count": 124,
   "metadata": {},
   "outputs": [
    {
     "name": "stdout",
     "output_type": "stream",
     "text": [
      "0    45\n",
      "1    69\n",
      "2    52\n",
      "3    58\n",
      "4    59\n",
      "Name: Special Character Count, dtype: int64\n"
     ]
    }
   ],
   "source": [
    "df[\"Special Character Count\"]=df[\"Review\"].apply(lambda x: count_special_characters(x))\n",
    "print(df[\"Special Character Count\"][:5])"
   ]
  },
  {
   "cell_type": "code",
   "execution_count": 17,
   "metadata": {},
   "outputs": [],
   "source": [
    "def count_numerics(text):\n",
    "    c=0\n",
    "    for i in range(len(text)):\n",
    "        ch=text[i]\n",
    "        if(ch.isdigit()):\n",
    "            c+=1\n",
    "\n",
    "    return(c)"
   ]
  },
  {
   "cell_type": "code",
   "execution_count": 125,
   "metadata": {},
   "outputs": [
    {
     "name": "stdout",
     "output_type": "stream",
     "text": [
      "0    0\n",
      "1    0\n",
      "2    0\n",
      "3    2\n",
      "4    0\n",
      "Name: Numerics Count, dtype: int64\n"
     ]
    }
   ],
   "source": [
    "df[\"Numerics Count\"]=df[\"Review\"].apply(lambda x: count_numerics(x))\n",
    "print(df[\"Numerics Count\"][:5])"
   ]
  },
  {
   "cell_type": "code",
   "execution_count": 19,
   "metadata": {},
   "outputs": [],
   "source": [
    "def count_uppercase(text):\n",
    "    c=0\n",
    "    \n",
    "    for i in range(len(text)):\n",
    "        ch=text[i]\n",
    "        if(ch.isupper()):\n",
    "            c+=1\n",
    "\n",
    "    return(c)"
   ]
  },
  {
   "cell_type": "code",
   "execution_count": 126,
   "metadata": {},
   "outputs": [
    {
     "name": "stdout",
     "output_type": "stream",
     "text": [
      "0    10\n",
      "1    16\n",
      "2     6\n",
      "3     8\n",
      "4     0\n",
      "Name: UpperCase Count, dtype: int64\n"
     ]
    }
   ],
   "source": [
    "df[\"UpperCase Count\"]=df[\"Review\"].apply(lambda x: count_uppercase(x))\n",
    "print(df[\"UpperCase Count\"][:5])"
   ]
  },
  {
   "cell_type": "code",
   "execution_count": 21,
   "metadata": {},
   "outputs": [],
   "source": [
    "from sklearn.feature_extraction.text import CountVectorizer\n",
    "\n",
    "def word_frequency(df):\n",
    "\n",
    "    vec = CountVectorizer().fit(df)\n",
    "    bag_of_words = vec.transform(df)\n",
    "    sum_words = bag_of_words.sum(axis=0) \n",
    "    words_freq = [(word, sum_words[0, idx]) for word, idx in     vec.vocabulary_.items()]\n",
    "    \n",
    "    \n",
    "    return(words_freq)\n",
    "    "
   ]
  },
  {
   "cell_type": "code",
   "execution_count": 22,
   "metadata": {},
   "outputs": [],
   "source": [
    "word_freq =word_frequency(df[\"Review\"])\n",
    "sorted_word_freq =sorted(word_freq, key = lambda x: x[1], reverse=True)"
   ]
  },
  {
   "cell_type": "code",
   "execution_count": 23,
   "metadata": {},
   "outputs": [
    {
     "name": "stdout",
     "output_type": "stream",
     "text": [
      "Most Common Words in Reviews are: [('the', 106496), ('and', 78076), ('to', 46850), ('was', 38931), ('is', 34159), ('in', 30793), ('of', 29253), ('very', 25768), ('for', 24318), ('hotel', 23230)]\n",
      "Most Rare Words in Reviews are: [('claustrophobia', 1), ('complimentory', 1), ('perfer', 1), ('o2spa', 1), ('beneath', 1), ('hanjoe', 1), ('andvinnay', 1), ('otm', 1), ('viswajeet', 1), ('seelrvef', 1)]\n"
     ]
    }
   ],
   "source": [
    "print(\"Most Common Words in Reviews are:\",sorted_word_freq[:10])\n",
    "print(\"Most Rare Words in Reviews are:\",sorted_word_freq[-11:-1])"
   ]
  },
  {
   "cell_type": "code",
   "execution_count": 24,
   "metadata": {},
   "outputs": [],
   "source": [
    "from collections import Counter\n",
    "\n",
    "def most_common_trigrams(df):\n",
    "\n",
    "    vectorizer = CountVectorizer(ngram_range = (3,3)) \n",
    "    X1 = vectorizer.fit_transform(df)  \n",
    "    features = (vectorizer.get_feature_names()) \n",
    "    sums=X1.sum(axis=0)\n",
    "    trigrams={}\n",
    "    for col, term in enumerate(features): \n",
    "        trigrams[term]=sums[0,col]\n",
    "\n",
    "    k=Counter(trigrams)\n",
    "    m=k.most_common(10)\n",
    "    print(\"Most Common Trigrams with their frequencies are:\")\n",
    "    for i in m:\n",
    "        print(\"{0} : {1}\".format(i[0],i[1]))\n",
    "\n",
    "    \n",
    "\n",
    "def most_common_bigrams(df):\n",
    "\n",
    "    vectorizer = CountVectorizer(ngram_range = (2,2)) \n",
    "    X1 = vectorizer.fit_transform(df)  \n",
    "    features = (vectorizer.get_feature_names()) \n",
    "    sums=X1.sum(axis=0)\n",
    "    bigrams={}\n",
    "    for col, term in enumerate(features): \n",
    "        bigrams[term]=sums[0,col]\n",
    "\n",
    "    k=Counter(bigrams)\n",
    "    m=k.most_common(10)\n",
    "    print(\"Most Common Bigrams with their frequencies are:\")\n",
    "    for i in m:\n",
    "        print(\"{0} : {1}\".format(i[0],i[1]))\n",
    "    "
   ]
  },
  {
   "cell_type": "code",
   "execution_count": 25,
   "metadata": {},
   "outputs": [
    {
     "name": "stdout",
     "output_type": "stream",
     "text": [
      "Most Common Trigrams with their frequencies are:\n",
      "the hotel is : 1981\n",
      "one of the : 1744\n",
      "the food was : 1299\n",
      "the rooms are : 1195\n",
      "of the hotel : 1168\n",
      "would like to : 1160\n",
      "is very good : 1126\n",
      "special thanks to : 1028\n",
      "of the best : 982\n",
      "the staff is : 979\n"
     ]
    }
   ],
   "source": [
    "most_common_trigrams(df[\"Review\"])\n"
   ]
  },
  {
   "cell_type": "code",
   "execution_count": 26,
   "metadata": {},
   "outputs": [
    {
     "name": "stdout",
     "output_type": "stream",
     "text": [
      "Most Common Bigrams with their frequencies are:\n",
      "the hotel : 8776\n",
      "of the : 7911\n",
      "in the : 6895\n",
      "and the : 6409\n",
      "the staff : 5871\n",
      "at the : 5819\n",
      "to the : 5167\n",
      "was very : 5127\n",
      "it was : 4888\n",
      "is very : 4440\n"
     ]
    }
   ],
   "source": [
    "most_common_bigrams(df[\"Review\"])"
   ]
  },
  {
   "cell_type": "code",
   "execution_count": 27,
   "metadata": {},
   "outputs": [],
   "source": [
    "df[\"Year\"]=df[\"Date of Stay\"].apply(lambda x: str(x).strip(' ').split(' ')[-1])\n",
    "df[\"Month\"]=df[\"Date of Stay\"].apply(lambda x: str(x).strip(' ').split(' ')[0])"
   ]
  },
  {
   "cell_type": "code",
   "execution_count": 28,
   "metadata": {},
   "outputs": [
    {
     "name": "stdout",
     "output_type": "stream",
     "text": [
      "2019    11968\n",
      "2018     5281\n",
      "2020     4418\n",
      "2017     2885\n",
      "2016     1653\n",
      "2015     1039\n",
      "2014      480\n",
      "2013      162\n",
      "2012       33\n",
      "2010       23\n",
      "2011       20\n",
      "2008       11\n",
      "2009        9\n",
      "nan         4\n",
      "2006        1\n",
      "Name: Year, dtype: int64\n"
     ]
    }
   ],
   "source": [
    "print(df[\"Year\"].value_counts())"
   ]
  },
  {
   "cell_type": "code",
   "execution_count": 29,
   "metadata": {},
   "outputs": [],
   "source": [
    "reviews_2020=df[df[\"Year\"]=='2020'].Review\n",
    "reviews_2019=df[df[\"Year\"]=='2019'].Review\n",
    "reviews_2018=df[df[\"Year\"]=='2018'].Review\n",
    "reviews_2017=df[df[\"Year\"]=='2017'].Review\n",
    "reviews_2016=df[df[\"Year\"]=='2016'].Review"
   ]
  },
  {
   "cell_type": "code",
   "execution_count": 30,
   "metadata": {},
   "outputs": [],
   "source": [
    "word_freq_2020=word_frequency(reviews_2020)\n",
    "df_2020=pd.DataFrame(word_freq_2020,columns=['Word','Frequency_2020'])"
   ]
  },
  {
   "cell_type": "code",
   "execution_count": 31,
   "metadata": {},
   "outputs": [],
   "source": [
    "word_freq_2019=word_frequency(reviews_2019)\n",
    "df_2019=pd.DataFrame(word_freq_2019,columns=['Word','Frequency_2019'])"
   ]
  },
  {
   "cell_type": "code",
   "execution_count": 32,
   "metadata": {},
   "outputs": [],
   "source": [
    "word_freq_2018=word_frequency(reviews_2018)\n",
    "df_2018=pd.DataFrame(word_freq_2018,columns=['Word','Frequency_2018'])"
   ]
  },
  {
   "cell_type": "code",
   "execution_count": 33,
   "metadata": {},
   "outputs": [],
   "source": [
    "word_freq_2017=word_frequency(reviews_2017)\n",
    "df_2017=pd.DataFrame(word_freq_2017,columns=['Word','Frequency_2017'])"
   ]
  },
  {
   "cell_type": "code",
   "execution_count": 34,
   "metadata": {},
   "outputs": [],
   "source": [
    "word_freq_2016=word_frequency(reviews_2016)\n",
    "df_2016=pd.DataFrame(word_freq_2016,columns=['Word','Frequency_2016'])"
   ]
  },
  {
   "cell_type": "code",
   "execution_count": 35,
   "metadata": {},
   "outputs": [],
   "source": [
    "df_merge=pd.DataFrame()"
   ]
  },
  {
   "cell_type": "code",
   "execution_count": 36,
   "metadata": {},
   "outputs": [],
   "source": [
    "df_merge=df_2020.merge(df_2019,on='Word').merge(df_2018,on='Word').merge(df_2017,on='Word').merge(df_2016,on='Word')"
   ]
  },
  {
   "cell_type": "code",
   "execution_count": 127,
   "metadata": {},
   "outputs": [
    {
     "name": "stdout",
     "output_type": "stream",
     "text": [
      "          Word  Frequency_2020  Frequency_2019  Frequency_2018  \\\n",
      "0       sayaji             113             352               8   \n",
      "1  hospitality             575            1841             725   \n",
      "2           is            4802           12911            6574   \n",
      "3       beyond              95             238              97   \n",
      "4         this            1656            5010            2417   \n",
      "\n",
      "   Frequency_2017  Frequency_2016  growth  \n",
      "0               2               1     341  \n",
      "1             368             151     597  \n",
      "2            4112            2714    -489  \n",
      "3              45              21      75  \n",
      "4            1521             924     148  \n"
     ]
    }
   ],
   "source": [
    "print(df_merge.head())"
   ]
  },
  {
   "cell_type": "code",
   "execution_count": 38,
   "metadata": {
    "tags": [
     "outputPrepend"
    ]
   },
   "outputs": [],
   "source": [
    "growth=[]\n",
    "for i in range(len(df_merge)):\n",
    "    growth.append(df_merge['Frequency_2019'][i]-df_merge['Frequency_2018'][i]-df_merge['Frequency_2017'][i]-df_merge['Frequency_2016'][i])\n",
    "\n"
   ]
  },
  {
   "cell_type": "code",
   "execution_count": 39,
   "metadata": {},
   "outputs": [
    {
     "name": "stdout",
     "output_type": "stream",
     "text": [
      "            Word  growth\n",
      "10           and    6548\n",
      "45           was    3388\n",
      "91            to    2739\n",
      "205         very    2640\n",
      "100        staff    1829\n",
      "40           for    1585\n",
      "5             my    1552\n",
      "124           at    1358\n",
      "15           the    1316\n",
      "169        great    1311\n",
      "118      service    1282\n",
      "63            we    1269\n",
      "29          stay    1246\n",
      "102           mr    1161\n",
      "171          our    1105\n",
      "30          with    1072\n",
      "97          food    1042\n",
      "117       thanks    1006\n",
      "148        thank     926\n",
      "55            by     923\n",
      "59            us     899\n",
      "60          good     870\n",
      "77           all     862\n",
      "104         team     845\n",
      "96       amazing     832\n",
      "214   experience     779\n",
      "188       always     750\n",
      "157         nice     727\n",
      "149        again     723\n",
      "377       mumbai     710\n",
      "...          ...     ...\n",
      "311      located    -154\n",
      "168      airport    -161\n",
      "382           if    -162\n",
      "82         there    -171\n",
      "163         city    -177\n",
      "373          has    -182\n",
      "375       hotels    -184\n",
      "371       oberoi    -188\n",
      "158         pool    -190\n",
      "333        which    -200\n",
      "1520       cecil    -203\n",
      "2117    radisson    -209\n",
      "740          old    -218\n",
      "910       bhopal    -219\n",
      "545       palace    -239\n",
      "1561   swissotel    -245\n",
      "1236        mall    -248\n",
      "2711      nagpur    -251\n",
      "200          are    -257\n",
      "504      kolkata    -260\n",
      "474     spacious    -261\n",
      "711       shimla    -322\n",
      "339          its    -338\n",
      "39         hotel    -367\n",
      "17      property    -406\n",
      "2             is    -489\n",
      "471          not    -504\n",
      "167          but    -565\n",
      "73         rooms    -594\n",
      "125          taj    -746\n",
      "\n",
      "[3800 rows x 2 columns]\n"
     ]
    }
   ],
   "source": [
    "df_merge[\"growth\"]=growth\n",
    "print(df_merge[[\"Word\",\"growth\"]].sort_values(by='growth',ascending=False))"
   ]
  },
  {
   "cell_type": "code",
   "execution_count": 40,
   "metadata": {},
   "outputs": [],
   "source": [
    "from vaderSentiment.vaderSentiment import SentimentIntensityAnalyzer\n",
    "sia = SentimentIntensityAnalyzer() \n",
    "\n",
    "def text_sentiment(text):\n",
    "    sentiment_dict = sia.polarity_scores(text) \n",
    "\n",
    "    if sentiment_dict['compound'] > 0.5 : \n",
    "        return(\"Positive\") \n",
    "  \n",
    "    elif sentiment_dict['compound'] < -0.5 : \n",
    "        return(\"Negative\") \n",
    "  \n",
    "    else : \n",
    "        return(\"Neutral\") \n",
    "    \n"
   ]
  },
  {
   "cell_type": "code",
   "execution_count": 41,
   "metadata": {},
   "outputs": [],
   "source": [
    "df[\"Review Sentiment\"]=df[\"Review\"].apply(lambda x: text_sentiment(x))\n"
   ]
  },
  {
   "cell_type": "code",
   "execution_count": 134,
   "metadata": {},
   "outputs": [
    {
     "data": {
      "text/plain": [
       "Text(0.5, 1.0, 'Review Sentiment distribution')"
      ]
     },
     "execution_count": 134,
     "metadata": {},
     "output_type": "execute_result"
    },
    {
     "data": {
      "image/png": "[encoded data removed]",
      "text/plain": [
       "<Figure size 432x432 with 1 Axes>"
      ]
     },
     "metadata": {},
     "output_type": "display_data"
    }
   ],
   "source": [
    "df[\"Review Sentiment\"].value_counts().plot.pie(autopct='%.2f', fontsize=14, figsize=(6, 6))\n",
    "plt.title('Review Sentiment distribution')"
   ]
  },
  {
   "cell_type": "code",
   "execution_count": 43,
   "metadata": {},
   "outputs": [],
   "source": [
    "pos_reviews=df[df[\"Review Sentiment\"] == 'Positive'].Review\n",
    "neg_reviews=df[df[\"Review Sentiment\"] == 'Negative'].Review"
   ]
  },
  {
   "cell_type": "code",
   "execution_count": 69,
   "metadata": {
    "tags": [
     "outputPrepend"
    ]
   },
   "outputs": [],
   "source": [
    "pos_word_freq=word_frequency(pos_reviews)\n",
    "pos_word_freq=[x for x in pos_word_freq if x[0] not in stop_words]\n",
    "sorted_pos_word_freq =sorted(pos_word_freq, key = lambda x: x[1], reverse=True)\n"
   ]
  },
  {
   "cell_type": "code",
   "execution_count": 128,
   "metadata": {},
   "outputs": [
    {
     "data": {
      "image/png": "[encoded data removed]",
      "text/plain": [
       "<Figure size 1080x667.491 with 1 Axes>"
      ]
     },
     "metadata": {
      "needs_background": "light"
     },
     "output_type": "display_data"
    }
   ],
   "source": [
    "common_20_words=sorted_pos_word_freq[:20]\n",
    "words = [w[0] for w in common_20_words]\n",
    "counts = [w[1] for w in common_20_words]\n",
    "x_pos = np.arange(len(words)) \n",
    "\n",
    "plt.figure(2, figsize=(15, 15/1.6180))\n",
    "plt.subplot(title='20 most common positive words')\n",
    "sns.set_context(\"notebook\", font_scale=1.25, rc={\"lines.linewidth\": 2.5})\n",
    "sns.barplot(x_pos, counts, palette='husl')\n",
    "plt.xticks(x_pos, words, rotation=90) \n",
    "plt.xlabel('words')\n",
    "plt.ylabel('counts')\n",
    "plt.show()"
   ]
  },
  {
   "cell_type": "code",
   "execution_count": 45,
   "metadata": {},
   "outputs": [
    {
     "name": "stdout",
     "output_type": "stream",
     "text": [
      "Most Common Negative Words  are: [('hotel', 851), ('room', 695), ('staff', 397), ('service', 309), ('one', 277), ('food', 266), ('rooms', 257), ('good', 213), ('time', 211), ('stay', 208), ('even', 201), ('check', 194), ('us', 188), ('experience', 182), ('bad', 165), ('stayed', 158), ('breakfast', 153), ('poor', 150), ('night', 141), ('property', 140)]\n"
     ]
    }
   ],
   "source": [
    "neg_word_freq=word_frequency(neg_reviews)\n",
    "neg_word_freq=[x for x in neg_word_freq if x[0] not in stop_words]\n",
    "sorted_neg_word_freq =sorted(neg_word_freq, key = lambda x: x[1], reverse=True)\n",
    "print(\"Most Common Negative Words  are:\",sorted_neg_word_freq[:20])"
   ]
  },
  {
   "cell_type": "code",
   "execution_count": 97,
   "metadata": {},
   "outputs": [],
   "source": [
    "punctuations=['?','.',',','!']\n",
    "from nltk import word_tokenize\n",
    "from nltk.stem import WordNetLemmatizer\n",
    "lemmatizer=WordNetLemmatizer()\n",
    "\n",
    "\n",
    "def remove_stopwords_and_lemmatize(text):\n",
    "    words=word_tokenize(text)\n",
    "    lemmatized_words=[]\n",
    "    for word in words:\n",
    "        word=word.lower()\n",
    "        if word in punctuations:\n",
    "            continue\n",
    "            \n",
    "        elif word in stop_words:\n",
    "            continue\n",
    "            \n",
    "        else:\n",
    "            lemmatized_words.append(lemmatizer.lemmatize(word))\n",
    "            \n",
    "            \n",
    "    lemmatized_text=' '.join(lemmatized_words)\n",
    "    return(lemmatized_text)\n",
    "            \n",
    "    \n",
    "  \n",
    "    "
   ]
  },
  {
   "cell_type": "code",
   "execution_count": 98,
   "metadata": {},
   "outputs": [],
   "source": [
    "df[\"Lemmatized Review\"]=df[\"Review\"].apply(lambda x: remove_stopwords_and_lemmatize(x))"
   ]
  },
  {
   "cell_type": "code",
   "execution_count": 99,
   "metadata": {},
   "outputs": [
    {
     "name": "stdout",
     "output_type": "stream",
     "text": [
      "0     great hotel wonderful hospitality smile reason...\n",
      "1     would like take opportunity express heartfelt ...\n",
      "2     first thing look hotel superb food drink taksh...\n",
      "3     sayaji 's hospitality beyond comparable 4th vi...\n",
      "4     first thing notice hotel sincerity courtesy st...\n",
      "5     service hotel commendable excellent.hospitalit...\n",
      "6     thank holiday inn jaipur excellent service rea...\n",
      "7     visited hotel birthday celebration friend .. e...\n",
      "8     hotel definitely best destination \u0003to stay com...\n",
      "9     organised birthday party hotel ambiance hotel ...\n",
      "10    n't stayed oberoi hotel - n't give full mark a...\n",
      "11    amazing derive food .. sister 's engagement .....\n",
      "12    wonderful discovery food mango tree delicious ...\n",
      "13    hi writing express appreciation thanks quality...\n",
      "14    service excellent courteous prompt room well m...\n",
      "15    location hotel make exploring city easy travel...\n",
      "16    situated quite close airport radisson blu nagp...\n",
      "17    lovely room courteous staff good food spread -...\n",
      "18    great stay oberoi cecil staff courteous effici...\n",
      "19    lovely time leela booked royal lounge worth ni...\n",
      "Name: Lemmatized Review, dtype: object\n"
     ]
    }
   ],
   "source": [
    "print(df[\"Lemmatized Review\"][:20])"
   ]
  },
  {
   "cell_type": "code",
   "execution_count": 100,
   "metadata": {},
   "outputs": [],
   "source": [
    "lemmatized_word_freq=word_frequency(df[\"Lemmatized Review\"])"
   ]
  },
  {
   "cell_type": "code",
   "execution_count": 130,
   "metadata": {},
   "outputs": [
    {
     "data": {
      "image/png": "[encoded data removed]",
      "text/plain": [
       "<Figure size 1080x667.491 with 1 Axes>"
      ]
     },
     "metadata": {
      "needs_background": "light"
     },
     "output_type": "display_data"
    }
   ],
   "source": [
    "sorted_lemmatized_word_freq =sorted(lemmatized_word_freq, key = lambda x: x[1], reverse=True)\n",
    "common_20_lemmatized_words=sorted_lemmatized_word_freq[:20]\n",
    "words = [w[0] for w in common_20_lemmatized_words]\n",
    "counts = [w[1] for w in common_20_lemmatized_words]\n",
    "x_pos = np.arange(len(words)) \n",
    "\n",
    "plt.figure(2, figsize=(15, 15/1.6180))\n",
    "plt.subplot(title='20 most common words after preprocessing')\n",
    "sns.set_context(\"notebook\", font_scale=1.25, rc={\"lines.linewidth\": 2.5})\n",
    "sns.barplot(x_pos, counts, palette='husl')\n",
    "plt.xticks(x_pos, words, rotation=90) \n",
    "plt.xlabel('words')\n",
    "plt.ylabel('counts')\n",
    "plt.show()"
   ]
  },
  {
   "cell_type": "code",
   "execution_count": 102,
   "metadata": {},
   "outputs": [],
   "source": [
    "from sklearn.feature_extraction.text import CountVectorizer"
   ]
  },
  {
   "cell_type": "code",
   "execution_count": 103,
   "metadata": {},
   "outputs": [],
   "source": [
    "vectorizer = CountVectorizer(analyzer='word',       \n",
    "                             min_df=10\n",
    "                            )\n",
    "\n",
    "data_vectorized = vectorizer.fit_transform(df[\"Lemmatized Review\"])"
   ]
  },
  {
   "cell_type": "code",
   "execution_count": 104,
   "metadata": {},
   "outputs": [],
   "source": [
    "data_dense = data_vectorized.todense()"
   ]
  },
  {
   "cell_type": "code",
   "execution_count": 105,
   "metadata": {},
   "outputs": [],
   "source": [
    "from sklearn.decomposition import LatentDirichletAllocation"
   ]
  },
  {
   "cell_type": "code",
   "execution_count": 106,
   "metadata": {},
   "outputs": [
    {
     "name": "stdout",
     "output_type": "stream",
     "text": [
      "LatentDirichletAllocation(batch_size=128, doc_topic_prior=None,\n",
      "             evaluate_every=-1, learning_decay=0.7,\n",
      "             learning_method='online', learning_offset=10.0,\n",
      "             max_doc_update_iter=100, max_iter=10, mean_change_tol=0.001,\n",
      "             n_components=5, n_jobs=-1, n_topics=None, perp_tol=0.1,\n",
      "             random_state=100, topic_word_prior=None,\n",
      "             total_samples=1000000.0, verbose=0)\n"
     ]
    }
   ],
   "source": [
    "lda_model = LatentDirichletAllocation(n_components=5,               \n",
    "                                      max_iter=50,               \n",
    "                                      learning_method='online',   \n",
    "                                      random_state=100,     \n",
    "                                      n_jobs = -1,               \n",
    "                                     )\n",
    "lda_output = lda_model.fit_transform(data_vectorized)\n",
    "\n",
    "print(lda_model)"
   ]
  },
  {
   "cell_type": "code",
   "execution_count": 107,
   "metadata": {},
   "outputs": [
    {
     "name": "stdout",
     "output_type": "stream",
     "text": [
      "Log Likelihood:  -6644685.83246702\n"
     ]
    }
   ],
   "source": [
    "print(\"Log Likelihood: \", lda_model.score(data_vectorized))"
   ]
  },
  {
   "cell_type": "code",
   "execution_count": 108,
   "metadata": {},
   "outputs": [
    {
     "name": "stdout",
     "output_type": "stream",
     "text": [
      "Perplexity:  944.9356536368292\n"
     ]
    }
   ],
   "source": [
    "print(\"Perplexity: \", lda_model.perplexity(data_vectorized))"
   ]
  },
  {
   "cell_type": "code",
   "execution_count": 110,
   "metadata": {},
   "outputs": [],
   "source": [
    "lda_output = lda_model.transform(data_vectorized)"
   ]
  },
  {
   "cell_type": "code",
   "execution_count": 111,
   "metadata": {},
   "outputs": [],
   "source": [
    "topicnames = [\"Topic\" + str(i) for i in range(lda_model.n_components)]"
   ]
  },
  {
   "cell_type": "code",
   "execution_count": 64,
   "metadata": {},
   "outputs": [
    {
     "data": {
      "text/html": [
       "<div>\n",
       "<style scoped>\n",
       "    .dataframe tbody tr th:only-of-type {\n",
       "        vertical-align: middle;\n",
       "    }\n",
       "\n",
       "    .dataframe tbody tr th {\n",
       "        vertical-align: top;\n",
       "    }\n",
       "\n",
       "    .dataframe thead th {\n",
       "        text-align: right;\n",
       "    }\n",
       "</style>\n",
       "<table border=\"1\" class=\"dataframe\">\n",
       "  <thead>\n",
       "    <tr style=\"text-align: right;\">\n",
       "      <th></th>\n",
       "      <th>00</th>\n",
       "      <th>000</th>\n",
       "      <th>01</th>\n",
       "      <th>02</th>\n",
       "      <th>04</th>\n",
       "      <th>05</th>\n",
       "      <th>10</th>\n",
       "      <th>100</th>\n",
       "      <th>1000</th>\n",
       "      <th>10pm</th>\n",
       "      <th>...</th>\n",
       "      <th>young</th>\n",
       "      <th>your</th>\n",
       "      <th>yours</th>\n",
       "      <th>yourself</th>\n",
       "      <th>yr</th>\n",
       "      <th>yum</th>\n",
       "      <th>yummy</th>\n",
       "      <th>zeeshan</th>\n",
       "      <th>zero</th>\n",
       "      <th>zone</th>\n",
       "    </tr>\n",
       "  </thead>\n",
       "  <tbody>\n",
       "    <tr>\n",
       "      <th>Topic0</th>\n",
       "      <td>0.200742</td>\n",
       "      <td>0.201282</td>\n",
       "      <td>0.212482</td>\n",
       "      <td>3.220692</td>\n",
       "      <td>3.035225</td>\n",
       "      <td>0.208064</td>\n",
       "      <td>0.205615</td>\n",
       "      <td>0.210658</td>\n",
       "      <td>0.200811</td>\n",
       "      <td>0.200555</td>\n",
       "      <td>...</td>\n",
       "      <td>23.321494</td>\n",
       "      <td>117.905378</td>\n",
       "      <td>0.203108</td>\n",
       "      <td>0.205959</td>\n",
       "      <td>0.209293</td>\n",
       "      <td>0.212758</td>\n",
       "      <td>209.152901</td>\n",
       "      <td>0.202373</td>\n",
       "      <td>0.205996</td>\n",
       "      <td>0.206343</td>\n",
       "    </tr>\n",
       "    <tr>\n",
       "      <th>Topic1</th>\n",
       "      <td>0.201638</td>\n",
       "      <td>0.201520</td>\n",
       "      <td>0.204702</td>\n",
       "      <td>0.203093</td>\n",
       "      <td>0.201448</td>\n",
       "      <td>0.207250</td>\n",
       "      <td>0.204317</td>\n",
       "      <td>44.371984</td>\n",
       "      <td>0.203405</td>\n",
       "      <td>0.205167</td>\n",
       "      <td>...</td>\n",
       "      <td>0.204542</td>\n",
       "      <td>0.206069</td>\n",
       "      <td>0.203771</td>\n",
       "      <td>0.201033</td>\n",
       "      <td>0.204992</td>\n",
       "      <td>0.209173</td>\n",
       "      <td>0.205687</td>\n",
       "      <td>0.200746</td>\n",
       "      <td>0.201459</td>\n",
       "      <td>53.748399</td>\n",
       "    </tr>\n",
       "    <tr>\n",
       "      <th>Topic2</th>\n",
       "      <td>0.202516</td>\n",
       "      <td>0.202534</td>\n",
       "      <td>0.203333</td>\n",
       "      <td>0.203323</td>\n",
       "      <td>7.455572</td>\n",
       "      <td>0.203034</td>\n",
       "      <td>0.205762</td>\n",
       "      <td>99.370184</td>\n",
       "      <td>0.202519</td>\n",
       "      <td>0.203018</td>\n",
       "      <td>...</td>\n",
       "      <td>127.456012</td>\n",
       "      <td>271.057030</td>\n",
       "      <td>0.203103</td>\n",
       "      <td>0.209216</td>\n",
       "      <td>22.040734</td>\n",
       "      <td>0.207994</td>\n",
       "      <td>0.203762</td>\n",
       "      <td>0.200962</td>\n",
       "      <td>17.887933</td>\n",
       "      <td>0.207935</td>\n",
       "    </tr>\n",
       "    <tr>\n",
       "      <th>Topic3</th>\n",
       "      <td>94.767728</td>\n",
       "      <td>22.399087</td>\n",
       "      <td>20.163422</td>\n",
       "      <td>18.038499</td>\n",
       "      <td>8.592283</td>\n",
       "      <td>19.379305</td>\n",
       "      <td>671.141846</td>\n",
       "      <td>0.215007</td>\n",
       "      <td>20.421920</td>\n",
       "      <td>12.151788</td>\n",
       "      <td>...</td>\n",
       "      <td>31.962323</td>\n",
       "      <td>428.725128</td>\n",
       "      <td>14.646676</td>\n",
       "      <td>14.017428</td>\n",
       "      <td>0.216991</td>\n",
       "      <td>0.207179</td>\n",
       "      <td>0.203531</td>\n",
       "      <td>1.072495</td>\n",
       "      <td>0.244863</td>\n",
       "      <td>0.211142</td>\n",
       "    </tr>\n",
       "    <tr>\n",
       "      <th>Topic4</th>\n",
       "      <td>0.200786</td>\n",
       "      <td>0.200847</td>\n",
       "      <td>0.212238</td>\n",
       "      <td>0.209570</td>\n",
       "      <td>0.212623</td>\n",
       "      <td>0.226504</td>\n",
       "      <td>0.204891</td>\n",
       "      <td>0.212700</td>\n",
       "      <td>0.203504</td>\n",
       "      <td>0.200692</td>\n",
       "      <td>...</td>\n",
       "      <td>0.216353</td>\n",
       "      <td>508.469971</td>\n",
       "      <td>0.214121</td>\n",
       "      <td>0.209221</td>\n",
       "      <td>15.733381</td>\n",
       "      <td>30.570782</td>\n",
       "      <td>0.203598</td>\n",
       "      <td>23.196512</td>\n",
       "      <td>0.206286</td>\n",
       "      <td>0.206048</td>\n",
       "    </tr>\n",
       "  </tbody>\n",
       "</table>\n",
       "<p>5 rows × 5339 columns</p>\n",
       "</div>"
      ],
      "text/plain": [
       "               00        000         01         02        04         05  \\\n",
       "Topic0   0.200742   0.201282   0.212482   3.220692  3.035225   0.208064   \n",
       "Topic1   0.201638   0.201520   0.204702   0.203093  0.201448   0.207250   \n",
       "Topic2   0.202516   0.202534   0.203333   0.203323  7.455572   0.203034   \n",
       "Topic3  94.767728  22.399087  20.163422  18.038499  8.592283  19.379305   \n",
       "Topic4   0.200786   0.200847   0.212238   0.209570  0.212623   0.226504   \n",
       "\n",
       "                10        100       1000       10pm  ...       young  \\\n",
       "Topic0    0.205615   0.210658   0.200811   0.200555  ...   23.321494   \n",
       "Topic1    0.204317  44.371984   0.203405   0.205167  ...    0.204542   \n",
       "Topic2    0.205762  99.370184   0.202519   0.203018  ...  127.456012   \n",
       "Topic3  671.141846   0.215007  20.421920  12.151788  ...   31.962323   \n",
       "Topic4    0.204891   0.212700   0.203504   0.200692  ...    0.216353   \n",
       "\n",
       "              your      yours   yourself         yr        yum       yummy  \\\n",
       "Topic0  117.905378   0.203108   0.205959   0.209293   0.212758  209.152901   \n",
       "Topic1    0.206069   0.203771   0.201033   0.204992   0.209173    0.205687   \n",
       "Topic2  271.057030   0.203103   0.209216  22.040734   0.207994    0.203762   \n",
       "Topic3  428.725128  14.646676  14.017428   0.216991   0.207179    0.203531   \n",
       "Topic4  508.469971   0.214121   0.209221  15.733381  30.570782    0.203598   \n",
       "\n",
       "          zeeshan       zero       zone  \n",
       "Topic0   0.202373   0.205996   0.206343  \n",
       "Topic1   0.200746   0.201459  53.748399  \n",
       "Topic2   0.200962  17.887933   0.207935  \n",
       "Topic3   1.072495   0.244863   0.211142  \n",
       "Topic4  23.196512   0.206286   0.206048  \n",
       "\n",
       "[5 rows x 5339 columns]"
      ]
     },
     "execution_count": 64,
     "metadata": {},
     "output_type": "execute_result"
    }
   ],
   "source": [
    "df_topic_keywords = pd.DataFrame(lda_model.components_)\n",
    "\n",
    "df_topic_keywords.columns = vectorizer.get_feature_names()\n",
    "df_topic_keywords.index = topicnames\n",
    "\n",
    "df_topic_keywords.head()"
   ]
  },
  {
   "cell_type": "code",
   "execution_count": 113,
   "metadata": {},
   "outputs": [
    {
     "data": {
      "text/html": [
       "<div>\n",
       "<style scoped>\n",
       "    .dataframe tbody tr th:only-of-type {\n",
       "        vertical-align: middle;\n",
       "    }\n",
       "\n",
       "    .dataframe tbody tr th {\n",
       "        vertical-align: top;\n",
       "    }\n",
       "\n",
       "    .dataframe thead th {\n",
       "        text-align: right;\n",
       "    }\n",
       "</style>\n",
       "<table border=\"1\" class=\"dataframe\">\n",
       "  <thead>\n",
       "    <tr style=\"text-align: right;\">\n",
       "      <th></th>\n",
       "      <th>Word 0</th>\n",
       "      <th>Word 1</th>\n",
       "      <th>Word 2</th>\n",
       "      <th>Word 3</th>\n",
       "      <th>Word 4</th>\n",
       "      <th>Word 5</th>\n",
       "      <th>Word 6</th>\n",
       "      <th>Word 7</th>\n",
       "      <th>Word 8</th>\n",
       "      <th>Word 9</th>\n",
       "    </tr>\n",
       "  </thead>\n",
       "  <tbody>\n",
       "    <tr>\n",
       "      <th>Topic 0</th>\n",
       "      <td>good</td>\n",
       "      <td>room</td>\n",
       "      <td>hotel</td>\n",
       "      <td>staff</td>\n",
       "      <td>food</td>\n",
       "      <td>stay</td>\n",
       "      <td>great</td>\n",
       "      <td>nice</td>\n",
       "      <td>service</td>\n",
       "      <td>breakfast</td>\n",
       "    </tr>\n",
       "    <tr>\n",
       "      <th>Topic 1</th>\n",
       "      <td>hotel</td>\n",
       "      <td>room</td>\n",
       "      <td>taj</td>\n",
       "      <td>one</td>\n",
       "      <td>staff</td>\n",
       "      <td>time</td>\n",
       "      <td>restaurant</td>\n",
       "      <td>stayed</td>\n",
       "      <td>service</td>\n",
       "      <td>night</td>\n",
       "    </tr>\n",
       "    <tr>\n",
       "      <th>Topic 2</th>\n",
       "      <td>stay</td>\n",
       "      <td>made</td>\n",
       "      <td>special</td>\n",
       "      <td>experience</td>\n",
       "      <td>itc</td>\n",
       "      <td>amazing</td>\n",
       "      <td>chef</td>\n",
       "      <td>time</td>\n",
       "      <td>property</td>\n",
       "      <td>make</td>\n",
       "    </tr>\n",
       "    <tr>\n",
       "      <th>Topic 3</th>\n",
       "      <td>food</td>\n",
       "      <td>service</td>\n",
       "      <td>staff</td>\n",
       "      <td>good</td>\n",
       "      <td>mr</td>\n",
       "      <td>hotel</td>\n",
       "      <td>stay</td>\n",
       "      <td>great</td>\n",
       "      <td>thanks</td>\n",
       "      <td>team</td>\n",
       "    </tr>\n",
       "    <tr>\n",
       "      <th>Topic 4</th>\n",
       "      <td>hotel</td>\n",
       "      <td>room</td>\n",
       "      <td>check</td>\n",
       "      <td>one</td>\n",
       "      <td>like</td>\n",
       "      <td>staff</td>\n",
       "      <td>even</td>\n",
       "      <td>get</td>\n",
       "      <td>day</td>\n",
       "      <td>service</td>\n",
       "    </tr>\n",
       "  </tbody>\n",
       "</table>\n",
       "</div>"
      ],
      "text/plain": [
       "        Word 0   Word 1   Word 2      Word 3 Word 4   Word 5      Word 6  \\\n",
       "Topic 0   good     room    hotel       staff   food     stay       great   \n",
       "Topic 1  hotel     room      taj         one  staff     time  restaurant   \n",
       "Topic 2   stay     made  special  experience    itc  amazing        chef   \n",
       "Topic 3   food  service    staff        good     mr    hotel        stay   \n",
       "Topic 4  hotel     room    check         one   like    staff        even   \n",
       "\n",
       "         Word 7    Word 8     Word 9  \n",
       "Topic 0    nice   service  breakfast  \n",
       "Topic 1  stayed   service      night  \n",
       "Topic 2    time  property       make  \n",
       "Topic 3   great    thanks       team  \n",
       "Topic 4     get       day    service  "
      ]
     },
     "execution_count": 113,
     "metadata": {},
     "output_type": "execute_result"
    }
   ],
   "source": [
    "def show_topics(vectorizer=vectorizer, lda_model=lda_model, n_words=10):\n",
    "    keywords = np.array(vectorizer.get_feature_names())\n",
    "    topic_keywords = []\n",
    "    for topic_weights in lda_model.components_:\n",
    "        top_keyword_locs = (-topic_weights).argsort()[:n_words]\n",
    "        topic_keywords.append(keywords.take(top_keyword_locs))\n",
    "    return topic_keywords\n",
    "\n",
    "topic_keywords = show_topics(vectorizer=vectorizer, lda_model=lda_model, n_words=10)        \n",
    "\n",
    "df_topic_keywords = pd.DataFrame(topic_keywords)\n",
    "df_topic_keywords.columns = ['Word '+str(i) for i in range(df_topic_keywords.shape[1])]\n",
    "df_topic_keywords.index = ['Topic '+str(i) for i in range(df_topic_keywords.shape[0])]\n",
    "df_topic_keywords"
   ]
  },
  {
   "cell_type": "code",
   "execution_count": 115,
   "metadata": {},
   "outputs": [],
   "source": [
    "import pyLDAvis.sklearn"
   ]
  },
  {
   "cell_type": "code",
   "execution_count": null,
   "metadata": {},
   "outputs": [],
   "source": [
    "pyLDAvis.enable_notebook()"
   ]
  },
  {
   "cell_type": "code",
   "execution_count": 117,
   "metadata": {},
   "outputs": [
    {
     "name": "stderr",
     "output_type": "stream",
     "text": [
      "C:\\Users\\Saurabh\\AppData\\Local\\Programs\\Python\\Python37\\lib\\site-packages\\pyLDAvis\\_prepare.py:257: FutureWarning: Sorting because non-concatenation axis is not aligned. A future version\n",
      "of pandas will change to not sort by default.\n",
      "\n",
      "To accept the future behavior, pass 'sort=False'.\n",
      "\n",
      "To retain the current behavior and silence the warning, pass 'sort=True'.\n",
      "\n",
      "  return pd.concat([default_term_info] + list(topic_dfs))\n"
     ]
    }
   ],
   "source": [
    "panel = pyLDAvis.sklearn.prepare(lda_model, data_vectorized,vectorizer,mds='tsne')"
   ]
  },
  {
   "cell_type": "code",
   "execution_count": 119,
   "metadata": {},
   "outputs": [
    {
     "data": {
      "text/html": [
       "\n",
       "<link rel=\"stylesheet\" type=\"text/css\" href=\"https://cdn.rawgit.com/bmabey/pyLDAvis/files/ldavis.v1.0.0.css\">\n",
       "\n",
       "\n",
       "<div id=\"ldavis_el2878831465075296966485341275\"></div>\n",
       "<script type=\"text/javascript\">\n",
       "\n",
       "var ldavis_el2878831465075296966485341275_data = {\"mdsDat\": {\"x\": [-193.00802612304688, -5.28080940246582, -3.9417214393615723, -180.35731506347656, 139.6216583251953], \"y\": [-177.3729705810547, 88.88427734375, -166.4837646484375, 18.136960983276367, -42.97816848754883], \"topics\": [1, 2, 3, 4, 5], \"cluster\": [1, 1, 1, 1, 1], \"Freq\": [25.84236568548458, 23.702760145403154, 21.139979767214253, 15.40251325344786, 13.91238114845014]}, \"tinfo\": {\"Category\": [\"Default\", \"Default\", \"Default\", \"Default\", \"Default\", \"Default\", \"Default\", \"Default\", \"Default\", \"Default\", \"Default\", \"Default\", \"Default\", \"Default\", \"Default\", \"Default\", \"Default\", \"Default\", \"Default\", \"Default\", \"Default\", \"Default\", \"Default\", \"Default\", \"Default\", \"Default\", \"Default\", \"Default\", \"Default\", \"Default\", \"Topic1\", \"Topic1\", \"Topic1\", \"Topic1\", \"Topic1\", \"Topic1\", \"Topic1\", \"Topic1\", \"Topic1\", \"Topic1\", \"Topic1\", \"Topic1\", \"Topic1\", \"Topic1\", \"Topic1\", \"Topic1\", \"Topic1\", \"Topic1\", \"Topic1\", \"Topic1\", \"Topic1\", \"Topic1\", \"Topic1\", \"Topic1\", \"Topic1\", \"Topic1\", \"Topic1\", \"Topic1\", \"Topic1\", \"Topic1\", \"Topic1\", \"Topic1\", \"Topic1\", \"Topic1\", \"Topic1\", \"Topic1\", \"Topic1\", \"Topic1\", \"Topic1\", \"Topic1\", \"Topic1\", \"Topic1\", \"Topic1\", \"Topic1\", \"Topic1\", \"Topic1\", \"Topic1\", \"Topic1\", \"Topic1\", \"Topic1\", \"Topic1\", \"Topic1\", \"Topic1\", \"Topic1\", \"Topic1\", \"Topic1\", \"Topic1\", \"Topic1\", \"Topic1\", \"Topic1\", \"Topic1\", \"Topic1\", \"Topic1\", \"Topic1\", \"Topic1\", \"Topic1\", \"Topic1\", \"Topic1\", \"Topic1\", \"Topic1\", \"Topic1\", \"Topic2\", \"Topic2\", \"Topic2\", \"Topic2\", \"Topic2\", \"Topic2\", \"Topic2\", \"Topic2\", \"Topic2\", \"Topic2\", \"Topic2\", \"Topic2\", \"Topic2\", \"Topic2\", \"Topic2\", \"Topic2\", \"Topic2\", \"Topic2\", \"Topic2\", \"Topic2\", \"Topic2\", \"Topic2\", \"Topic2\", \"Topic2\", \"Topic2\", \"Topic2\", \"Topic2\", \"Topic2\", \"Topic2\", \"Topic2\", \"Topic2\", \"Topic2\", \"Topic2\", \"Topic2\", \"Topic2\", \"Topic2\", \"Topic2\", \"Topic2\", \"Topic2\", \"Topic2\", \"Topic2\", \"Topic2\", \"Topic2\", \"Topic2\", \"Topic2\", \"Topic2\", \"Topic2\", \"Topic2\", \"Topic2\", \"Topic2\", \"Topic2\", \"Topic2\", \"Topic2\", \"Topic2\", \"Topic2\", \"Topic2\", \"Topic2\", \"Topic2\", \"Topic2\", \"Topic2\", \"Topic2\", \"Topic2\", \"Topic2\", \"Topic2\", \"Topic2\", \"Topic2\", \"Topic2\", \"Topic2\", \"Topic2\", \"Topic3\", \"Topic3\", \"Topic3\", \"Topic3\", \"Topic3\", \"Topic3\", \"Topic3\", \"Topic3\", \"Topic3\", \"Topic3\", \"Topic3\", \"Topic3\", \"Topic3\", \"Topic3\", \"Topic3\", \"Topic3\", \"Topic3\", \"Topic3\", \"Topic3\", \"Topic3\", \"Topic3\", \"Topic3\", \"Topic3\", \"Topic3\", \"Topic3\", \"Topic3\", \"Topic3\", \"Topic3\", \"Topic3\", \"Topic3\", \"Topic3\", \"Topic3\", \"Topic3\", \"Topic3\", \"Topic3\", \"Topic3\", \"Topic3\", \"Topic3\", \"Topic3\", \"Topic3\", \"Topic3\", \"Topic3\", \"Topic3\", \"Topic3\", \"Topic3\", \"Topic3\", \"Topic3\", \"Topic3\", \"Topic3\", \"Topic3\", \"Topic3\", \"Topic3\", \"Topic3\", \"Topic3\", \"Topic3\", \"Topic3\", \"Topic3\", \"Topic3\", \"Topic3\", \"Topic3\", \"Topic3\", \"Topic3\", \"Topic3\", \"Topic3\", \"Topic3\", \"Topic3\", \"Topic4\", \"Topic4\", \"Topic4\", \"Topic4\", \"Topic4\", \"Topic4\", \"Topic4\", \"Topic4\", \"Topic4\", \"Topic4\", \"Topic4\", \"Topic4\", \"Topic4\", \"Topic4\", \"Topic4\", \"Topic4\", \"Topic4\", \"Topic4\", \"Topic4\", \"Topic4\", \"Topic4\", \"Topic4\", \"Topic4\", \"Topic4\", \"Topic4\", \"Topic4\", \"Topic4\", \"Topic4\", \"Topic4\", \"Topic4\", \"Topic4\", \"Topic4\", \"Topic4\", \"Topic4\", \"Topic4\", \"Topic4\", \"Topic4\", \"Topic4\", \"Topic4\", \"Topic4\", \"Topic4\", \"Topic4\", \"Topic4\", \"Topic4\", \"Topic4\", \"Topic4\", \"Topic4\", \"Topic4\", \"Topic4\", \"Topic4\", \"Topic4\", \"Topic4\", \"Topic4\", \"Topic4\", \"Topic4\", \"Topic4\", \"Topic4\", \"Topic4\", \"Topic4\", \"Topic4\", \"Topic4\", \"Topic4\", \"Topic4\", \"Topic4\", \"Topic4\", \"Topic4\", \"Topic4\", \"Topic4\", \"Topic5\", \"Topic5\", \"Topic5\", \"Topic5\", \"Topic5\", \"Topic5\", \"Topic5\", \"Topic5\", \"Topic5\", \"Topic5\", \"Topic5\", \"Topic5\", \"Topic5\", \"Topic5\", \"Topic5\", \"Topic5\", \"Topic5\", \"Topic5\", \"Topic5\", \"Topic5\", \"Topic5\", \"Topic5\", \"Topic5\", \"Topic5\", \"Topic5\", \"Topic5\", \"Topic5\", \"Topic5\", \"Topic5\", \"Topic5\", \"Topic5\", \"Topic5\", \"Topic5\", \"Topic5\", \"Topic5\", \"Topic5\", \"Topic5\", \"Topic5\", \"Topic5\", \"Topic5\", \"Topic5\", \"Topic5\", \"Topic5\", \"Topic5\", \"Topic5\", \"Topic5\", \"Topic5\", \"Topic5\", \"Topic5\", \"Topic5\", \"Topic5\", \"Topic5\", \"Topic5\", \"Topic5\", \"Topic5\", \"Topic5\", \"Topic5\", \"Topic5\", \"Topic5\", \"Topic5\", \"Topic5\", \"Topic5\", \"Topic5\", \"Topic5\", \"Topic5\", \"Topic5\", \"Topic5\", \"Topic5\", \"Topic5\", \"Topic5\"], \"Freq\": [17920.0, 18751.0, 4962.0, 15144.0, 6650.0, 4655.0, 3803.0, 3715.0, 3414.0, 3943.0, 1880.0, 3331.0, 3024.0, 6949.0, 3112.0, 24819.0, 5090.0, 2992.0, 9616.0, 14034.0, 3195.0, 3001.0, 13115.0, 1265.0, 5636.0, 3794.0, 2309.0, 4706.0, 1908.0, 7115.0, 1314.3696563976207, 1309.9775595550625, 982.3171791095212, 681.0330820168432, 619.7651780493908, 582.958663635508, 1278.2765258093384, 542.6303540873893, 453.0931476732374, 428.0002528911381, 342.6840840810748, 343.6374953485011, 276.20783834216274, 281.489029972225, 251.33724433752076, 247.550762302638, 241.70421384657493, 204.9590524639021, 207.5918619408181, 214.35036746316226, 190.29377917848785, 162.9058205310127, 157.9193821646128, 140.06788482577676, 139.67956975269558, 139.58196039782703, 127.87413698767006, 121.55740168669746, 119.00823895659939, 113.86117385879561, 3334.422362156161, 3674.880706813418, 321.8462199045177, 294.32948633053815, 1390.2718032727585, 1806.8105398328341, 2817.7138863286964, 297.25735172874204, 253.21387031613844, 1363.2390054387195, 2485.8817393307177, 418.07926913355675, 844.5101605985277, 636.1040236557051, 996.2799073621218, 11102.57568144273, 3952.770603320827, 1704.7223464137994, 4334.605230832355, 1779.2282265469973, 10281.129685183138, 898.0309374596017, 3789.7393783568, 1205.5145689468093, 3688.970395554619, 9598.0024795943, 4502.225535122668, 6260.070181302838, 6947.555362466422, 2099.0116321377245, 5222.176866184938, 2724.5491498151187, 2599.5818737817817, 4324.169736064705, 1460.5317427584393, 2071.9549247838613, 1703.5012795473488, 1902.0491056095038, 1648.2541619186238, 1551.529663720056, 1444.8019229592007, 1102.0142097531318, 864.5783832477141, 796.5099867042011, 636.5202826421458, 483.4086921861856, 488.86140410773703, 432.9905351596421, 422.3254230700412, 375.4821003600467, 369.1661584157426, 4950.998003124391, 331.8091761995317, 330.86463202944543, 298.973125982191, 277.4832062763722, 280.13788014107325, 267.1982622790247, 261.2818369303735, 257.61944117415163, 246.06575492560268, 245.06539951680165, 236.77106842681573, 234.41646598704912, 215.6617955066758, 207.39899089548206, 174.59930227462468, 266.9490830104039, 167.0188929926987, 164.8541127200304, 158.62513667525312, 505.1511530560924, 169.82497175940298, 438.02781785453516, 367.7584633236662, 1299.5382432783422, 3674.465378524214, 3153.7494808233314, 2284.5483529747626, 1311.5400128529911, 612.1824021302336, 2247.45867376421, 7739.4596131227, 6971.6346212060525, 2511.690943099409, 1439.2101684296115, 921.7192349386416, 1439.3745643473053, 1530.0108256718856, 2510.0006764216114, 6891.788993275562, 6771.113409926517, 2585.6734068417145, 2013.2830663191585, 2544.3800574390816, 3710.8198652918445, 2292.176475939655, 2855.324859625, 2297.4757546042497, 1067.7097849401732, 2157.5328052166365, 3934.821856146797, 2312.756252631969, 1383.7850275740875, 4444.489792411279, 2072.2152091288453, 2191.9533881276966, 1541.3470530152517, 1669.3868320185352, 1593.8796353859998, 1268.9623740579302, 1270.2691760782498, 947.4444299815054, 688.763740657015, 664.8485151151559, 627.4545917801329, 575.4639337671128, 565.629266077789, 449.53512185193193, 413.402418485197, 403.015692862057, 393.4543612480606, 373.4651149736656, 353.7163315178291, 343.98295198575016, 333.5186603828206, 321.5056017077219, 316.60468325420726, 304.13765022694236, 303.49443468768857, 289.41280260218133, 286.14073895560574, 281.4729631149804, 280.8013324774839, 271.22964566687057, 270.2666911041324, 1066.598078482447, 227.25016490680034, 229.26875233410576, 213.9221810511417, 592.3126476156408, 521.8289867659374, 395.64052345819226, 430.03792315710103, 663.5284952773202, 688.6681943806709, 2353.9609648367946, 1075.131635052251, 948.1444442287129, 796.3051088098237, 650.3585696747136, 816.9542578163664, 630.051854767592, 810.4053915092695, 582.2710375664382, 6412.503449026387, 892.0842125705834, 747.912303449096, 954.2234393841511, 824.318297894676, 4198.154819290732, 2124.1155127857483, 1428.8732061880419, 1612.6193719884484, 1082.5354325837066, 1748.7407754907535, 1681.968410226863, 1914.5246079402284, 1568.0945178023887, 1076.4656969445955, 970.5534918161727, 1002.6320385378555, 1152.8933496391046, 932.9811152256387, 943.1720039752455, 776.5017657071223, 663.5145287392266, 704.0496945678144, 528.3676535397494, 516.1834377325496, 407.29927929193474, 416.8384599806598, 388.06885124571846, 469.46986815890995, 345.6168006935909, 333.9718926031666, 312.5860359931175, 321.64021935582014, 292.58901254528564, 281.70647367878, 269.547249489662, 264.8170083891022, 247.8046520784578, 236.59477594172196, 235.58805956625173, 221.3890962778869, 202.46327149384246, 202.10201984231824, 199.50219467737645, 197.0607203918603, 200.618419916222, 197.9896281117565, 190.26819039568542, 186.6911360283459, 185.9714226962091, 185.99123635944883, 384.4375583832384, 270.11884343029595, 550.9786269464537, 253.89178768865995, 521.5711770386391, 754.5389722088219, 440.8474288556641, 659.81476203521, 487.7856614449497, 466.5913132471649, 1181.5412803678632, 1051.5949029416938, 1551.0162164628748, 481.81078142975446, 779.5923114108309, 3738.7954079847777, 4030.303675139666, 501.86006726190743, 673.2662085739761, 822.8466929193186, 1254.0474298372744, 946.3791262542921, 1341.3221524173398, 712.1385761621654, 987.6416902851265, 646.0372255227867, 650.3150090476772, 716.6141057391525, 617.7299876987878, 580.5645159068059, 1195.2931040441808, 734.7884746314409, 984.3842575096332, 771.5621799966439, 660.5586114969577, 710.5494941182917, 600.1643639761836, 613.0595466871824, 1879.8043313879884, 1265.1387106130012, 920.7346469183219, 801.7837889845114, 723.2508152463362, 635.7016458653203, 602.5288778725089, 432.5626893783828, 299.14209231981584, 285.46692056105445, 257.9725715723699, 253.58043514952857, 229.6621790744416, 230.7414872298399, 224.1382035110426, 224.99382118327432, 211.93621294908172, 209.81331330234656, 197.17977311978171, 170.60025377510215, 159.44668892903067, 147.95198289274097, 149.43663527612185, 148.13670310422225, 138.57384250668304, 142.07994364990697, 127.8098208690343, 125.35527139525037, 124.70822911201994, 121.16826783575632, 312.34549181240936, 130.3526649641634, 128.78949278430377, 313.3729320925026, 299.0136854376678, 2269.6949807412193, 868.548986565529, 2170.8779171474907, 641.7856323625808, 781.4946143789736, 474.97597336479316, 476.6371605757514, 1606.6054684008727, 897.7182711086666, 430.5419233047941, 1316.0160742418054, 1102.5042404009996, 404.6369324302873, 1912.2348836912988, 711.4154775183162, 1624.9340797207587, 704.6738008439914, 999.2571014572342, 2532.0694829664467, 1180.187825599756, 1317.0881643852413, 1060.056081709984, 1134.0387414898748, 1419.1371965209448, 582.8923711616534, 697.373168878071, 980.3447111643806, 1021.457150354685, 937.7887939168351, 1133.77874178725, 775.0528688635618, 912.9382715442604, 788.7702836566451, 762.0665308959665, 747.8236878524145], \"Term\": [\"good\", \"room\", \"mr\", \"food\", \"nice\", \"thanks\", \"pool\", \"special\", \"clean\", \"team\", \"itc\", \"made\", \"chef\", \"excellent\", \"location\", \"hotel\", \"amazing\", \"thank\", \"great\", \"service\", \"taj\", \"view\", \"stay\", \"memorable\", \"breakfast\", \"hospitality\", \"care\", \"helpful\", \"spacious\", \"well\", \"beach\", \"swimming\", \"gym\", \"resort\", \"efficient\", \"sea\", \"spread\", \"neat\", \"nagpur\", \"facing\", \"cidade\", \"cleanliness\", \"veg\", \"centrally\", \"de\", \"lawn\", \"green\", \"range\", \"boy\", \"bell\", \"serf\", \"smoking\", \"furnished\", \"improved\", \"ocean\", \"blu\", \"greenery\", \"goan\", \"tidy\", \"sport\", \"clean\", \"pool\", \"equipped\", \"activity\", \"maintained\", \"spacious\", \"location\", \"chinese\", \"south\", \"located\", \"view\", \"private\", \"near\", \"value\", \"variety\", \"good\", \"breakfast\", \"overall\", \"nice\", \"buffet\", \"room\", \"option\", \"well\", \"facility\", \"excellent\", \"hotel\", \"great\", \"food\", \"staff\", \"comfortable\", \"stay\", \"place\", \"restaurant\", \"service\", \"courteous\", \"property\", \"friendly\", \"helpful\", \"best\", \"stayed\", \"experience\", \"event\", \"ms\", \"banquet\", \"cooperative\", \"humble\", \"sayaji\", \"support\", \"inn\", \"regard\", \"manish\", \"mr\", \"mukesh\", \"appreciated\", \"rohit\", \"pradeep\", \"co\", \"nd\", \"manisha\", \"manoj\", \"amit\", \"vijay\", \"mishra\", \"ji\", \"engagement\", \"luck\", \"sister\", \"deepak\", \"vizag\", \"ceremony\", \"santosh\", \"lalit\", \"thankyou\", \"jw\", \"decoration\", \"specially\", \"thanks\", \"team\", \"thank\", \"love\", \"chanakya\", \"always\", \"food\", \"service\", \"visit\", \"come\", \"keep\", \"awesome\", \"ambience\", \"helpful\", \"staff\", \"good\", \"really\", \"hospitality\", \"best\", \"great\", \"like\", \"excellent\", \"amazing\", \"especially\", \"would\", \"stay\", \"nice\", \"front\", \"hotel\", \"experience\", \"well\", \"special\", \"place\", \"time\", \"delhi\", \"palace\", \"club\", \"still\", \"10\", \"hyatt\", \"tea\", \"free\", \"lucknow\", \"comfort\", \"ground\", \"wifi\", \"flight\", \"min\", \"cold\", \"center\", \"pick\", \"several\", \"style\", \"real\", \"numa\", \"distance\", \"regency\", \"particularly\", \"jehan\", \"drop\", \"choice\", \"stunning\", \"leisure\", \"various\", \"short\", \"early\", \"expect\", \"shower\", \"suite\", \"le\", \"taj\", \"india\", \"lounge\", \"however\", \"high\", \"old\", \"hour\", \"new\", \"world\", \"hotel\", \"bar\", \"bed\", \"could\", \"floor\", \"room\", \"one\", \"night\", \"stayed\", \"airport\", \"time\", \"restaurant\", \"staff\", \"service\", \"breakfast\", \"day\", \"would\", \"stay\", \"well\", \"food\", \"feel\", \"lemon\", \"asked\", \"call\", \"booking\", \"bad\", \"review\", \"called\", \"told\", \"said\", \"poor\", \"brand\", \"single\", \"mind\", \"disappointed\", \"hand\", \"colleague\", \"unique\", \"ca\", \"step\", \"assistance\", \"otherwise\", \"enter\", \"seems\", \"past\", \"cozy\", \"architecture\", \"someone\", \"pm\", \"phone\", \"par\", \"door\", \"let\", \"issue\", \"requested\", \"oberoi\", \"never\", \"problem\", \"tree\", \"ready\", \"checked\", \"even\", \"get\", \"check\", \"without\", \"thing\", \"room\", \"hotel\", \"booked\", \"got\", \"need\", \"like\", \"guest\", \"one\", \"people\", \"day\", \"work\", \"star\", \"reception\", \"take\", \"say\", \"staff\", \"night\", \"service\", \"property\", \"front\", \"would\", \"desk\", \"time\", \"itc\", \"memorable\", \"grand\", \"cake\", \"birthday\", \"sonar\", \"leela\", \"anniversary\", \"daughter\", \"kudos\", \"celebrate\", \"kunju\", \"sujoy\", \"son\", \"memory\", \"husband\", \"celebration\", \"assisted\", \"rashmani\", \"hicc\", \"parent\", \"rajkumar\", \"mouth\", \"marriage\", \"sunday\", \"recent\", \"pond\", \"varsha\", \"bhatia\", \"watering\", \"welcomed\", \"credit\", \"kajol\", \"effort\", \"warmth\", \"made\", \"sure\", \"special\", \"dish\", \"making\", \"wife\", \"truly\", \"chef\", \"went\", \"concierge\", \"make\", \"care\", \"attention\", \"experience\", \"mention\", \"amazing\", \"took\", \"every\", \"stay\", \"day\", \"property\", \"beautiful\", \"hospitality\", \"time\", \"came\", \"way\", \"thanks\", \"restaurant\", \"one\", \"staff\", \"family\", \"great\", \"team\", \"really\", \"best\"], \"Total\": [17920.0, 18751.0, 4962.0, 15144.0, 6650.0, 4655.0, 3803.0, 3715.0, 3414.0, 3943.0, 1880.0, 3331.0, 3024.0, 6949.0, 3112.0, 24819.0, 5090.0, 2992.0, 9616.0, 14034.0, 3195.0, 3001.0, 13115.0, 1265.0, 5636.0, 3794.0, 2309.0, 4706.0, 1908.0, 7115.0, 1315.1824640051443, 1310.7899525549444, 983.1336358653423, 681.8555560447275, 620.603950475243, 583.7705183466767, 1280.121610357899, 543.4493854310696, 453.9056813115862, 428.8201925430399, 343.50580001815996, 344.4704280548788, 277.0389653214874, 282.3664757607867, 252.16514044683973, 248.38634333878304, 242.53257159034527, 205.77973882600048, 208.46317107602545, 215.25759159505424, 191.12616502689156, 163.74406134304934, 158.73884441503097, 140.88570913502696, 140.49724147997688, 140.39983423322207, 128.6958033162411, 122.39307909856873, 119.83272984263515, 114.66957147748516, 3414.4599690340797, 3803.855980400886, 326.0844467769882, 298.14231503462804, 1447.4923342001366, 1908.029775080567, 3112.544436903806, 306.60298113686434, 259.74673854116133, 1536.9064640656811, 3001.501290443252, 441.8930155672217, 946.658869617631, 703.8846866509804, 1155.615517829888, 17920.30147688894, 5636.861235051855, 2212.4523245662454, 6650.869959440607, 2373.9927876520123, 18751.463032031686, 1098.8285377974503, 7115.8849998968735, 1675.3515070365634, 6949.1449405414105, 24819.271525904223, 9616.390307061689, 15144.203307552267, 18082.940809513642, 3623.980972976621, 13115.141834996366, 5321.4175784334675, 5951.084432358641, 14034.478703780396, 2364.6307186776403, 4680.251143136248, 3357.5867180191008, 4706.382124226855, 5594.690745204919, 4356.904135787993, 6263.780325883999, 1102.8329300164978, 865.3921095162257, 797.3215909219794, 637.3409808842155, 484.22390524242087, 489.69172547155074, 433.81057278048166, 423.1430084341005, 376.29673804323767, 369.9824181920775, 4962.282143100123, 332.61342832840944, 331.7027325780287, 299.78226353687324, 278.291913149878, 280.9561545805464, 268.01424523925476, 262.09300701497676, 258.43288299443344, 246.87652576227404, 245.88095378716665, 237.57732382424837, 235.22724535961504, 216.46903455276527, 208.21022245380732, 175.4396737886186, 268.23973516777056, 167.85124728833452, 165.67610451913916, 159.43181225128885, 508.3871109456235, 170.68920364407006, 453.52270429830185, 379.26970287358307, 1427.3951425285186, 4655.415863288587, 3943.145364266172, 2992.5068107650013, 1633.4690945307218, 702.434418066422, 3280.59521480433, 15144.203307552267, 14034.478703780396, 4236.01810760556, 2153.9078382951557, 1241.211398522111, 2174.2101967749204, 2368.802200415478, 4706.382124226855, 18082.940809513642, 17920.30147688894, 5040.988646898115, 3794.9313923704267, 5594.690745204919, 9616.390307061689, 5006.852628341185, 6949.1449405414105, 5090.01127552127, 1651.4092326684984, 5021.750709132892, 13115.141834996366, 6650.869959440607, 2636.5564050857183, 24819.271525904223, 6263.780325883999, 7115.8849998968735, 3715.7357712701487, 5321.4175784334675, 6263.140955606684, 1269.7802201462766, 1271.4526405785834, 948.330180767034, 689.6082704249189, 665.6711315569945, 628.2712273428037, 576.2831201515337, 566.4505773743266, 450.35392188288375, 414.2335903231795, 403.82966803760223, 394.2747128546201, 374.28792797994805, 354.53533534659533, 344.8039914754086, 334.3488418867677, 322.32316362601654, 317.4218588865376, 304.9558854957457, 304.317586263063, 290.2228619494922, 286.95299040527425, 282.2857418766861, 281.6280296952462, 272.03946882728087, 271.0841316446339, 1070.221539903294, 228.06586695588354, 230.10410399064506, 214.7536389721106, 594.7693522172117, 529.6353307741168, 403.16089538243637, 443.3770862734189, 706.529943166499, 748.4384427075365, 3195.7144150308427, 1311.0532358787027, 1150.1363899413147, 942.1803176124068, 786.4859521070116, 1061.590708897392, 783.5950711752599, 1128.5077158360868, 731.1937802699964, 24819.271525904223, 1373.685602264191, 1076.2636227795997, 1627.2123515534179, 1288.4851777740942, 18751.463032031686, 6118.345746435398, 3194.722827530517, 4356.904135787993, 2228.4541566918633, 6263.140955606684, 5951.084432358641, 18082.940809513642, 14034.478703780396, 5636.861235051855, 3726.711589269041, 5021.750709132892, 13115.141834996366, 7115.8849998968735, 15144.203307552267, 2251.3781724987593, 664.3250629791265, 705.0906676202053, 529.1771465967662, 516.9944571048809, 408.12174300340683, 417.70712548916197, 388.8778838889993, 470.46304541136465, 346.423195819282, 334.778126730706, 313.40419372851835, 322.5375055375721, 293.412091044961, 282.517629218822, 270.3672988172176, 265.644053095573, 248.63905468632944, 237.41048114280701, 236.4057252858937, 222.23335190232493, 203.2764901188083, 202.91775151181056, 200.31440937051303, 197.88033675244202, 201.45636311534338, 198.81975181152697, 191.07807931753626, 187.4996385434999, 186.77711578930123, 186.80880811599187, 386.65234565586195, 272.41503245900856, 564.293879891976, 259.38262013869485, 570.7813239130558, 891.4399742703512, 492.7802936126556, 803.9628728177631, 587.6343966061888, 560.1892778293538, 2079.103288310796, 1837.9017437898735, 3642.1728927578824, 684.521721184303, 1474.162327746095, 18751.463032031686, 24819.271525904223, 768.6476928842422, 1304.4334470222866, 2124.905330333949, 5006.852628341185, 2884.082909614311, 6118.345746435398, 1706.0673989389516, 3726.711589269041, 1445.2615271172351, 1513.575494811501, 1969.3168582495991, 1360.0085699754734, 1182.2291210600329, 18082.940809513642, 3194.722827530517, 14034.478703780396, 4680.251143136248, 2636.5564050857183, 5021.750709132892, 1913.2581654494788, 6263.140955606684, 1880.6073359061295, 1265.9580293062756, 921.5454528354305, 802.590573944857, 724.0529603543196, 636.5008970601624, 603.3386488312851, 433.3644552358592, 299.95159491038874, 286.29431084456803, 258.775210153685, 254.37879688591607, 230.4607571513427, 231.5529654439488, 224.94980812700157, 225.81064135401965, 212.74032459551105, 210.6313874145853, 197.97886409868067, 171.41548072763217, 160.2605654125696, 148.75263918407128, 150.24547338623077, 148.96115326462922, 139.38982432435563, 142.9227027161731, 128.61508360008452, 126.15375429082276, 125.50893378999716, 121.97324454755743, 316.8185631060533, 131.22437784960027, 129.9013997546414, 347.97475954861983, 331.28390448286217, 3331.408599666758, 1211.9896387205563, 3715.7357712701487, 896.5455378914949, 1155.1211973461868, 627.5556581371311, 630.5805210721082, 3024.069937688203, 1458.4295373946572, 576.2541337179985, 2850.8836653672333, 2309.9723416274155, 550.1820887430052, 6263.780325883999, 1341.9125214849478, 5090.01127552127, 1381.056144004429, 2617.549508443934, 13115.141834996366, 3726.711589269041, 4680.251143136248, 3139.456396579505, 3794.9313923704267, 6263.140955606684, 1076.0845349141318, 1769.7431574222328, 4655.415863288587, 5951.084432358641, 6118.345746435398, 18082.940809513642, 2814.788339552796, 9616.390307061689, 3943.145364266172, 5040.988646898115, 5594.690745204919], \"loglift\": [30.0, 29.0, 28.0, 27.0, 26.0, 25.0, 24.0, 23.0, 22.0, 21.0, 20.0, 19.0, 18.0, 17.0, 16.0, 15.0, 14.0, 13.0, 12.0, 11.0, 10.0, 9.0, 8.0, 7.0, 6.0, 5.0, 4.0, 3.0, 2.0, 1.0, 1.3525, 1.3525, 1.3523, 1.3519, 1.3518, 1.3518, 1.3517, 1.3516, 1.3514, 1.3512, 1.3508, 1.3507, 1.3502, 1.35, 1.3499, 1.3498, 1.3497, 1.3492, 1.349, 1.3489, 1.3488, 1.348, 1.348, 1.3473, 1.3473, 1.3473, 1.3467, 1.3463, 1.3463, 1.3461, 1.3294, 1.3187, 1.3401, 1.3403, 1.3128, 1.2986, 1.2536, 1.3222, 1.3277, 1.2332, 1.1647, 1.2978, 1.239, 1.2519, 1.2048, 0.8744, 0.9982, 1.0925, 0.925, 1.0648, 0.7522, 1.1514, 0.7231, 1.024, 0.7199, 0.4031, 0.5943, 0.4697, 0.3966, 0.807, 0.4323, 0.6837, 0.5249, 0.1759, 0.8713, 0.5383, 0.6746, 0.4472, 0.1311, 0.3206, -0.1137, 1.4388, 1.4386, 1.4386, 1.4383, 1.4379, 1.4379, 1.4377, 1.4376, 1.4374, 1.4374, 1.4373, 1.4372, 1.437, 1.4369, 1.4367, 1.4367, 1.4365, 1.4365, 1.4364, 1.4363, 1.4363, 1.4362, 1.4361, 1.4358, 1.4357, 1.4348, 1.4348, 1.4346, 1.4346, 1.4345, 1.4332, 1.4345, 1.4048, 1.4088, 1.3457, 1.203, 1.2162, 1.1696, 1.2201, 1.3021, 1.0614, 0.7683, 0.7399, 0.9169, 1.0364, 1.142, 1.0271, 1.0025, 0.8109, 0.4749, 0.4663, 0.772, 0.8057, 0.6516, 0.4874, 0.6583, 0.5501, 0.6441, 1.0035, 0.5948, 0.2357, 0.3833, 0.7949, -0.2804, 0.3334, 0.262, 0.5597, 0.2803, 0.0711, 1.5534, 1.5531, 1.5531, 1.5528, 1.5528, 1.5527, 1.5526, 1.5526, 1.5522, 1.552, 1.552, 1.5519, 1.5518, 1.5517, 1.5516, 1.5515, 1.5515, 1.5514, 1.5513, 1.5513, 1.5512, 1.5512, 1.5511, 1.5511, 1.551, 1.551, 1.5506, 1.5504, 1.5504, 1.5501, 1.5499, 1.5392, 1.5352, 1.5235, 1.4912, 1.4708, 1.2483, 1.3556, 1.3609, 1.3858, 1.364, 1.2921, 1.3359, 1.2229, 1.3263, 0.2006, 1.1223, 1.19, 1.0203, 1.1073, 0.0574, 0.4961, 0.7494, 0.5601, 0.832, 0.2782, 0.2904, -0.6915, -0.6377, -0.1016, 0.2086, -0.0571, -0.8775, -0.4777, -1.2221, 0.4895, 1.8694, 1.8692, 1.8691, 1.8691, 1.8686, 1.8686, 1.8686, 1.8685, 1.8683, 1.8682, 1.868, 1.8679, 1.8678, 1.8678, 1.8676, 1.8675, 1.8673, 1.8672, 1.8672, 1.8668, 1.8666, 1.8666, 1.8666, 1.8665, 1.8665, 1.8665, 1.8664, 1.8663, 1.8663, 1.8663, 1.8649, 1.8622, 1.8468, 1.8492, 1.7805, 1.7039, 1.7593, 1.673, 1.6844, 1.6878, 1.3055, 1.3123, 1.017, 1.5195, 1.2336, 0.2581, 0.0529, 1.4443, 1.2093, 0.9219, 0.4862, 0.7563, 0.353, 0.997, 0.5427, 1.0655, 1.0259, 0.8597, 1.0814, 1.1595, -0.8459, 0.401, -0.7866, 0.0679, 0.4865, -0.0849, 0.7113, -0.4533, 1.972, 1.9717, 1.9715, 1.9714, 1.9713, 1.9711, 1.971, 1.9705, 1.9697, 1.9695, 1.9693, 1.9692, 1.9689, 1.9689, 1.9688, 1.9688, 1.9686, 1.9685, 1.9683, 1.9676, 1.9673, 1.967, 1.967, 1.9668, 1.9665, 1.9665, 1.9661, 1.966, 1.966, 1.9658, 1.9582, 1.9657, 1.9638, 1.8677, 1.8699, 1.5886, 1.6392, 1.4349, 1.6381, 1.5816, 1.6938, 1.6925, 1.3399, 1.4871, 1.6809, 1.1994, 1.2327, 1.6651, 0.7859, 1.3378, 0.8306, 1.2995, 1.0094, 0.3277, 0.8225, 0.7045, 0.8867, 0.7645, 0.4878, 1.3593, 1.0411, 0.4145, 0.21, 0.0969, -0.797, 0.6827, -0.3822, 0.3631, 0.0831, -0.04], \"logprob\": [30.0, 29.0, 28.0, 27.0, 26.0, 25.0, 24.0, 23.0, 22.0, 21.0, 20.0, 19.0, 18.0, 17.0, 16.0, 15.0, 14.0, 13.0, 12.0, 11.0, 10.0, 9.0, 8.0, 7.0, 6.0, 5.0, 4.0, 3.0, 2.0, 1.0, -5.2506, -5.254, -5.5418, -5.9082, -6.0024, -6.0636, -5.2785, -6.1353, -6.3157, -6.3726, -6.595, -6.5922, -6.8106, -6.7917, -6.905, -6.9201, -6.944, -7.109, -7.0962, -7.0641, -7.1832, -7.3386, -7.3697, -7.4896, -7.4924, -7.4931, -7.5807, -7.6314, -7.6526, -7.6968, -4.3197, -4.2225, -6.6577, -6.7471, -5.1945, -4.9324, -4.4881, -6.7372, -6.8975, -5.2141, -4.6134, -6.3961, -5.693, -5.9764, -5.5277, -3.1168, -4.1496, -4.9906, -4.0574, -4.9478, -3.1937, -5.6316, -4.1917, -5.3371, -4.2187, -3.2625, -4.0194, -3.6898, -3.5856, -4.7825, -3.8711, -4.5217, -4.5687, -4.0598, -5.1452, -4.7955, -4.9913, -4.8811, -5.0243, -5.0848, -5.156, -5.3404, -5.5831, -5.6651, -5.8893, -6.1645, -6.1533, -6.2746, -6.2996, -6.4171, -6.4341, -3.838, -6.5408, -6.5436, -6.645, -6.7196, -6.7101, -6.7573, -6.7797, -6.7939, -6.8397, -6.8438, -6.8782, -6.8882, -6.9716, -7.0107, -7.1828, -6.7583, -7.2272, -7.2403, -7.2788, -6.1205, -7.2106, -6.2631, -6.4379, -5.1756, -4.1362, -4.289, -4.6114, -5.1664, -5.9283, -4.6278, -3.3913, -3.4957, -4.5166, -5.0735, -5.5191, -5.0734, -5.0123, -4.5173, -3.5073, -3.5249, -4.4876, -4.7378, -4.5037, -4.1263, -4.6081, -4.3884, -4.6058, -5.3721, -4.6686, -4.0677, -4.5991, -5.1128, -3.9459, -4.709, -4.6528, -5.0049, -4.9251, -4.9714, -5.085, -5.0839, -5.3771, -5.696, -5.7314, -5.7892, -5.8757, -5.893, -6.1227, -6.2065, -6.2319, -6.2559, -6.3081, -6.3624, -6.3903, -6.4212, -6.4579, -6.4733, -6.5134, -6.5155, -6.5631, -6.5744, -6.5909, -6.5933, -6.6279, -6.6315, -5.2587, -6.8049, -6.796, -6.8653, -5.8469, -5.9736, -6.2504, -6.167, -5.7333, -5.6962, -4.4671, -5.2507, -5.3764, -5.5509, -5.7534, -5.5253, -5.7851, -5.5334, -5.864, -3.4649, -5.4374, -5.6136, -5.37, -5.5164, -3.8885, -4.5698, -4.9663, -4.8453, -5.2439, -4.7643, -4.8032, -4.6737, -4.8733, -5.2495, -5.353, -5.3205, -5.1809, -5.3925, -5.3817, -5.5761, -5.4167, -5.3574, -5.6445, -5.6678, -5.9047, -5.8816, -5.9531, -5.7627, -6.0689, -6.1032, -6.1694, -6.1408, -6.2355, -6.2734, -6.3175, -6.3352, -6.4016, -6.4479, -6.4522, -6.5144, -6.6037, -6.6055, -6.6185, -6.6308, -6.6129, -6.6261, -6.6658, -6.6848, -6.6887, -6.6886, -5.9625, -6.3154, -5.6026, -6.3774, -5.6574, -5.2882, -5.8256, -5.4223, -5.7244, -5.7688, -4.8397, -4.9562, -4.5676, -5.7367, -5.2555, -3.6878, -3.6127, -5.696, -5.4021, -5.2015, -4.7801, -5.0616, -4.7129, -5.346, -5.019, -5.4434, -5.4368, -5.3397, -5.4882, -5.5503, -4.8281, -5.3147, -5.0223, -5.2659, -5.4212, -5.3482, -5.5171, -5.4958, -4.2736, -4.6696, -4.9874, -5.1257, -5.2288, -5.3578, -5.4114, -5.7428, -6.1116, -6.1584, -6.2597, -6.2768, -6.3759, -6.3712, -6.4003, -6.3965, -6.4562, -6.4663, -6.5284, -6.6732, -6.7408, -6.8156, -6.8057, -6.8144, -6.8811, -6.8561, -6.962, -6.9814, -6.9865, -7.0153, -6.0684, -6.9423, -6.9543, -6.0651, -6.112, -4.0851, -5.0457, -4.1296, -5.3483, -5.1513, -5.6493, -5.6458, -4.4306, -5.0127, -5.7475, -4.6302, -4.8072, -5.8095, -4.2565, -5.2453, -4.4193, -5.2548, -4.9055, -3.9757, -4.7391, -4.6293, -4.8464, -4.779, -4.5547, -5.4445, -5.2652, -4.9246, -4.8835, -4.969, -4.7792, -5.1596, -4.9959, -5.1421, -5.1765, -5.1954]}, \"token.table\": {\"Topic\": [3, 1, 3, 1, 3, 1, 2, 3, 4, 1, 2, 3, 5, 1, 2, 2, 5, 2, 4, 4, 4, 5, 1, 2, 3, 5, 1, 2, 5, 4, 2, 1, 2, 3, 1, 1, 2, 3, 4, 5, 1, 3, 4, 1, 1, 2, 3, 4, 5, 5, 5, 1, 1, 3, 4, 5, 4, 1, 4, 1, 2, 3, 4, 5, 1, 2, 3, 4, 5, 4, 5, 4, 4, 1, 4, 5, 1, 2, 3, 4, 5, 5, 5, 3, 1, 2, 2, 3, 1, 2, 3, 4, 5, 3, 4, 5, 2, 5, 1, 5, 3, 4, 1, 1, 3, 1, 3, 2, 3, 4, 1, 2, 3, 5, 3, 1, 2, 3, 5, 2, 4, 5, 2, 1, 3, 4, 5, 1, 2, 3, 4, 4, 5, 5, 1, 2, 3, 4, 5, 1, 2, 3, 2, 5, 3, 1, 2, 3, 4, 5, 4, 1, 3, 5, 3, 1, 4, 3, 3, 5, 1, 3, 5, 2, 4, 1, 3, 1, 2, 3, 4, 1, 2, 3, 4, 5, 2, 1, 2, 3, 4, 5, 1, 2, 3, 4, 5, 1, 3, 1, 2, 3, 4, 5, 1, 2, 3, 1, 1, 2, 3, 4, 5, 1, 2, 3, 4, 5, 3, 1, 3, 4, 1, 2, 3, 4, 5, 3, 1, 2, 3, 4, 5, 1, 2, 3, 4, 5, 1, 1, 2, 3, 4, 1, 1, 2, 3, 4, 1, 2, 3, 4, 5, 5, 1, 2, 3, 4, 5, 1, 1, 3, 1, 2, 3, 4, 5, 1, 4, 1, 2, 3, 5, 5, 1, 3, 4, 1, 2, 3, 4, 5, 1, 2, 3, 4, 5, 3, 4, 3, 4, 2, 5, 3, 1, 2, 3, 5, 2, 1, 4, 5, 3, 2, 2, 3, 2, 5, 1, 2, 3, 4, 5, 5, 5, 2, 3, 1, 2, 3, 5, 3, 4, 3, 4, 1, 2, 3, 4, 5, 1, 3, 1, 2, 3, 2, 3, 5, 1, 2, 3, 4, 2, 3, 2, 3, 4, 5, 1, 3, 1, 2, 3, 4, 5, 1, 2, 3, 4, 5, 2, 2, 2, 5, 5, 5, 1, 2, 3, 4, 5, 3, 4, 2, 5, 2, 5, 2, 2, 1, 2, 1, 3, 1, 1, 2, 3, 4, 2, 3, 4, 1, 2, 3, 4, 1, 2, 3, 1, 3, 4, 5, 3, 1, 4, 1, 1, 3, 1, 2, 3, 4, 5, 1, 3, 4, 4, 1, 2, 3, 4, 3, 4, 4, 5, 3, 4, 1, 2, 4, 5, 4, 3, 1, 2, 3, 4, 5, 4, 5, 1, 3, 4, 2, 1, 5, 1, 3, 4, 1, 2, 3, 4, 5, 5, 1, 5, 3, 4, 3, 1, 2, 3, 4, 5, 5, 1, 2, 3, 4, 5, 2, 3, 4, 5, 1, 1, 2, 3, 4, 5, 4, 2, 1, 2, 3, 4, 5, 4, 2, 1, 2, 3, 4, 2, 1, 4, 1, 1, 2, 3, 4, 5, 3, 3, 5, 1, 3, 4, 4, 2, 1, 4, 5, 5, 1, 3, 4, 1, 3, 2, 3, 5, 1, 2, 4, 1, 1, 3, 5, 1, 2, 3, 4, 5, 1, 2, 3, 4, 1, 2, 3, 4, 5, 1, 2, 3, 4, 5, 4, 3, 3, 3, 1, 3, 5, 5, 5, 2, 1, 2, 3, 5, 1, 2, 3, 5, 1, 2, 3, 4, 5, 3, 2, 5, 2, 5, 2, 5, 2, 1, 2, 3, 4, 5, 1, 1, 2, 3, 4, 5, 4, 1, 2, 3, 4, 5, 1, 2, 4, 2, 3, 4, 5, 4, 1, 4, 1, 2, 3, 5, 1, 1, 3, 2, 1, 2, 3, 4, 5, 2, 4, 5, 5, 2, 3, 4, 5, 4, 5, 1, 2, 3, 4, 5, 1, 2, 3, 4, 5, 1, 3, 5, 3, 1, 4, 5, 1, 2, 3, 4, 5, 2, 3, 4, 1, 2, 3, 4, 5], \"Freq\": [0.9989917971124499, 0.9861062491778568, 0.010062308665080172, 0.5138090889425119, 0.4859871120740091, 0.04054142351967453, 0.6849366815692381, 0.1457052664842438, 0.12863519342332821, 0.21001918112460827, 0.45127601407224055, 0.01925339546324753, 0.31925273089568607, 0.35376529110493826, 0.6458960565519756, 0.996449537842581, 0.9991590098554325, 0.9978814386828623, 0.995876909592443, 0.9984531526649097, 0.9944501943935625, 0.9970024058506411, 0.0018175800711446072, 0.012723060498012249, 0.24900846974681118, 0.7361199288135659, 0.33575410559790114, 0.6618495314457257, 0.0018397485238241158, 0.99725145003265, 0.9995966609638559, 0.2380457358372389, 0.11210716611295042, 0.6493480011217648, 0.9991009125824691, 0.4169511643564088, 0.07835751446270173, 0.1643596644827402, 0.0025482118524455845, 0.33763807044903993, 0.30382890685785446, 0.6949970101824927, 0.000929140387944509, 0.9941577363858087, 0.294564985814893, 0.45471682276279596, 0.11493039191685447, 0.00196614978395863, 0.13369818530918687, 0.995945039332031, 0.9985457412482586, 0.9971521744636971, 0.01170887531871561, 0.28101300764917464, 0.6530950455550262, 0.05334043200748222, 0.9980764646676296, 0.9977781635305906, 0.9987103116786354, 0.7012767984102477, 0.025723535484312148, 0.19088637366289568, 0.051447070968624296, 0.030513435195184065, 0.7493704316429337, 0.07413670374882313, 0.13184538791694111, 0.005476006526901708, 0.03917450823091222, 0.9982710066513024, 0.9992641653614815, 0.9977755150532546, 0.9977425204019834, 0.0009292950205624848, 0.45628385509618, 0.5417789969879286, 0.00043290561621853993, 0.47186712167820855, 0.048485429016476476, 0.0021645280810926996, 0.47749489468904954, 0.9970043106013724, 0.9965200551568272, 0.9989566529233387, 0.995160630322332, 0.9959191186858147, 0.8712557133584667, 0.12812584019977452, 0.2501254132694902, 0.10543156827166217, 0.09719472700043857, 0.4258446937222605, 0.12163068943840194, 0.012495776475986669, 0.8336468020408249, 0.15351953956212194, 0.46857381912378904, 0.5314030538686867, 0.9686794267255423, 0.02935392202198613, 0.9969898382875148, 0.00280315793332947, 0.998527535726811, 0.9764355213521976, 0.023136894477151653, 0.9986343441510054, 0.9985973442646757, 0.9965967836441458, 0.9976682651730093, 0.9975755034299929, 0.08774748698142805, 0.6680880093453702, 0.214493857065713, 0.029713434745033837, 0.9970219935031897, 0.5791973014350429, 0.15866529219873732, 0.14790364629308383, 0.11423901038309088, 0.038177600320288795, 0.2151828381689005, 0.7479338971838396, 0.9994649945720697, 0.07128756114053622, 0.5862787355868238, 0.2851502445621449, 0.05715295850060232, 0.6178554598229304, 0.37172823352796436, 0.005920586199535268, 0.004651889156777711, 0.9977346800652701, 0.990669585410391, 0.9968275050823683, 0.10974822982752509, 0.04803162136705866, 0.2605514209352735, 0.26511308329974276, 0.3166330347102191, 0.9953794547304394, 0.9702857813629805, 0.02900310759508909, 0.9953782568156982, 0.0037280084524932517, 0.9993855470939792, 0.11446442720318963, 0.45158568540436456, 0.0020906744694646506, 0.3136011704196976, 0.11864577614211892, 0.9981677985184385, 0.26434797785885933, 0.018961669297892864, 0.7160818640733657, 0.9966789319604988, 0.005172605371389859, 0.9931402313068529, 0.9960007557873026, 0.9855837963774867, 0.013216640947590818, 0.9990268343042604, 0.09770823620685466, 0.8994905274336914, 0.9978332487427852, 0.9954772241217292, 0.9874742668122972, 0.01226676107841363, 0.2173900889605025, 0.6467203760719127, 0.13503618339329262, 0.0012110868465766156, 0.09571434046534602, 0.018277110239613814, 0.13755930338235658, 0.5685143237690402, 0.17988524288462016, 0.9992447359941589, 0.049282735468368345, 0.22234536467124325, 0.20171538238215883, 0.14517394944170522, 0.3816546723480619, 0.5308566782768225, 0.410841912843678, 0.05640981780550675, 0.00014390259644261926, 0.001726831157311431, 0.017362795053225178, 0.9822381201538816, 0.2306913596616384, 0.3307906555148199, 0.05763292791546814, 0.07567315188900803, 0.3052469755522855, 0.7198489361395131, 0.08535522211272832, 0.19458603083041562, 0.9980873276088611, 0.30339759050432924, 0.38404308587257596, 0.006750063488972196, 0.030552918950084676, 0.27533153705018165, 0.02665034276911693, 0.21098188025550904, 0.34512193886006426, 0.1643437804095544, 0.25317825630661084, 0.9965589913976145, 0.2033395529257191, 0.639510655003025, 0.15677324309540175, 0.4133594797210758, 0.5110206091951127, 0.06226804942124193, 0.004027943811978534, 0.009310493073589726, 0.9992045601287668, 0.5075073685677792, 0.3249357623869995, 0.12717467510471933, 0.0002978329627745183, 0.04050528293733449, 0.14905806651506967, 0.5249271350047238, 0.0003792826119976328, 0.2507058065304353, 0.07547723978752892, 0.9953455348767739, 0.14037747168572087, 0.06746824220554026, 0.21927178716800586, 0.5723918612921642, 0.9967883878609495, 0.6195766301319803, 0.37783962556278833, 0.001283460550575119, 0.001283460550575119, 0.09812689201752206, 0.03526435181879699, 0.12189199867801569, 0.5159327994358777, 0.22845167047829354, 0.9994081107624673, 0.4681590343409841, 0.3859036375920462, 0.04970680106952253, 0.0012478694829168835, 0.09494206982525955, 0.9978041234344193, 0.9945934265274268, 0.9979455000380879, 0.02323095489961484, 0.36337374231039327, 0.04334133376793813, 0.32800721395575577, 0.24201800776016652, 0.9988469157966053, 0.9986414820918638, 0.4041320806079792, 0.533318360844389, 0.03633364131649025, 0.026134724455721056, 0.9975761773331759, 0.13223376682238497, 0.826461042639906, 0.04068731286842614, 0.15046385321957995, 0.5304443722084315, 0.004216150002650226, 0.016074071885103985, 0.29881963143783474, 0.3867156209634289, 0.17905440920623858, 0.2583879221961314, 0.16237382293004982, 0.01345728458030686, 0.8039866803336405, 0.195253908081027, 0.844848894760565, 0.15389835394507778, 0.9974724394455327, 0.9964100834701197, 0.9979766265149842, 0.9937132790794411, 0.013729419605097822, 0.8199514486377866, 0.16627852632840695, 0.9972987656387603, 0.02303764131287162, 0.9764415664147893, 0.9996770533143555, 0.9961789778822836, 0.994782724434243, 0.965773038149614, 0.03307441911471281, 0.007698146454840413, 0.9930608926744132, 0.023364271416238844, 0.7428226981300764, 0.010473638910727757, 0.20947277821455515, 0.014501961568699973, 0.995479089889178, 0.9985108944198444, 0.9933375357622201, 0.00590101506393398, 0.9984445870348996, 0.07883079841083888, 0.9205833916113219, 0.9994387085396549, 0.9952017196934048, 0.9995106868651488, 0.007341738750415503, 0.9911347313060929, 0.07929132919806542, 0.4577726108865641, 0.11504233153170197, 0.2504567426054762, 0.09746641976991417, 0.8868464229074587, 0.11256377928319175, 0.9053686002321615, 0.0009638416609994622, 0.09349264111694783, 0.03999525656461242, 0.8242500700707082, 0.13563608747998995, 0.17508748770185012, 0.8031985449819138, 0.011631686245927106, 0.00979510420709651, 0.9941874974266655, 0.9992141250121592, 0.18880902212443082, 0.08254766468079248, 0.04742738552569168, 0.681393450274178, 0.9602814240588666, 0.03937844688586719, 0.02946454849085525, 0.15047965836401075, 0.25956864146705816, 0.09891669850501406, 0.4616112596900656, 0.029434140831380042, 0.24239880684665915, 0.04588263129597477, 0.006925680195618834, 0.6761195290972886, 0.997344689520983, 0.9958296979098176, 0.998324969371476, 0.9935476247090963, 0.9992432377029113, 0.9957776886545938, 0.0014904101183785205, 0.4456326253951776, 0.004471230355135561, 0.017884921420542245, 0.529840797083564, 0.998490036695293, 0.9985955212564915, 0.9975699540050571, 0.9917104099167828, 0.9977264204705066, 0.0022167220006414, 0.9995468995939368, 0.9981557319213109, 0.9980046927172862, 0.9962157039886095, 0.8926129856484707, 0.10774736631496333, 0.9991730868722704, 0.30213110712988966, 0.08706270221032646, 0.2230687613388905, 0.38731137253566855, 0.1391007847740895, 0.013461366268460274, 0.8469442943906256, 0.03810341692537054, 0.12228538455118917, 0.7177620397569799, 0.12139925857618056, 0.651794430869403, 0.34777405273377837, 0.0004510688102902443, 0.2378923121125569, 0.4473001500116366, 0.23006690710885436, 0.08482739024013541, 0.9957864727083251, 0.08584723771982407, 0.9145358793826156, 0.9964608452469315, 0.22984375989257438, 0.7695998025911199, 0.18321945938624087, 0.09708506590136225, 0.34715265988971955, 0.21917689120156023, 0.15330941383077068, 0.8172339624524118, 0.161080636251756, 0.0209313821118101, 0.993720424245508, 0.7706380748042866, 0.2115299818231121, 0.010395704234896535, 0.0076837813910104824, 0.9988574953307562, 0.0007865019648273671, 0.9956703962508574, 0.9921342757694356, 0.9977700028795934, 0.9955511660891129, 0.12953767250780698, 0.4149894666765943, 0.4173340399346542, 0.03751317212895768, 0.9958393415273749, 0.9989973924852901, 0.5120815947697517, 0.31363823180576716, 0.123651262149907, 0.02931549680149771, 0.021234943195956674, 0.9973352559643255, 0.9952176402419715, 0.9661249056050472, 0.0336500647394411, 0.9976756942327599, 0.9953577050254342, 0.945930316331087, 0.05204879731008374, 0.05276185013282411, 0.05276185013282411, 0.8949221503298244, 0.4427112854913054, 0.0017093099825919128, 0.10918217513805843, 0.16494841332011959, 0.2813951558841936, 0.9949403305501024, 0.9962108085545789, 0.9950557141382892, 0.16847209859014803, 0.830448324363558, 0.9956703578020495, 0.24122252303588196, 0.5129946090220319, 0.0646698540375802, 0.029756067808702547, 0.15116082446820894, 0.993544043747861, 0.23256795780801223, 0.3366649694906378, 0.046208917381067936, 0.3640856457387441, 0.020819402336525114, 0.996553948221872, 0.9954452468334453, 0.9792483392456415, 0.019276542111134675, 0.9987452532473442, 0.4368951624787352, 0.10183018017773597, 0.282637562803551, 0.007057537240041107, 0.17156536957338026, 0.9983071261034059, 0.9973905609770105, 0.5482772188195533, 0.02815780289239608, 0.22387586466340673, 0.19939777464899422, 0.00026664586072344774, 0.9987783848645552, 0.9972915552724932, 0.09219871009628518, 0.34257318888986693, 0.07358979613189734, 0.4914445006049696, 0.9985874266695345, 0.9986801006175186, 0.9984304205997908, 0.9941077401582713, 0.3080983691140068, 0.49677655630500817, 0.11172484800433918, 0.07011304237007, 0.013253075082147377, 0.9986709835043578, 0.9953438215891791, 0.003362648045909389, 0.011277082543946874, 0.9698290987794312, 0.018043332070315, 0.9983335099690926, 0.9974938747939742, 0.9954559491382683, 0.9943579121090876, 0.9976119267447574, 0.9992130457907037, 0.9740257045033418, 0.00769980794073788, 0.01539961588147576, 0.9470502104316998, 0.0529341844236866, 0.41472270765723485, 0.0008073771077038965, 0.5842719002750532, 0.08827268374810417, 0.9107499116867891, 0.0007005768551436839, 0.9941608617800004, 0.9983426493696127, 0.0007811757819793526, 0.0007811757819793526, 0.3842295383914865, 0.38113269697670193, 0.1059009162377226, 0.0660843837619209, 0.0627110386493877, 0.2662569534069982, 0.03765917206997245, 0.2662569534069982, 0.42944669904354543, 0.3981657282627052, 0.30003487949324875, 0.08791365084008025, 0.02081563458746046, 0.19305929221776513, 0.3562162378675573, 0.003213290805506316, 0.370217004948692, 0.12371169601199317, 0.146893293966003, 0.9982837755498389, 0.9991179478973706, 0.995326495059913, 0.996865495826743, 0.002830736360636714, 0.9398044717313891, 0.05803009539305264, 0.9980007131928317, 0.9972033516345603, 0.9981315052436681, 0.0008250895618675879, 0.010726164304278644, 0.27145446585443644, 0.7170028292629339, 0.9993973461931069, 0.07322306364404643, 0.736611503496091, 0.19025479784435995, 0.04852910596084718, 0.2338220559931728, 0.2499984246467885, 0.4544089012697509, 0.013970500200849946, 0.9977734552572071, 0.7998690660969245, 0.20009406884923064, 0.7635738678288472, 0.23625677223413344, 0.7891883577946751, 0.2105075097002672, 0.995962230595983, 0.20689716068536806, 0.20079199856678343, 0.0583382157998087, 0.5291140502773347, 0.005426810772075227, 0.9930508981667305, 0.14178189606367933, 0.25450489000619914, 0.2792528560983954, 0.09787421428720205, 0.22656363796662268, 0.9968902012057389, 0.004344501145770043, 0.11802561446008619, 0.07530468652668076, 0.29180566029088795, 0.5104788846279802, 0.15423597804386108, 0.023632932119623876, 0.8209334315237767, 0.006343361182802206, 0.2315326831722805, 0.006343361182802206, 0.7564458210491631, 0.9974297895914395, 0.9035570911849644, 0.09518604576948525, 0.8618783536849458, 0.1375890142930787, 0.9964906812489056, 0.9908543800594074, 0.9962497502101131, 0.8282521843037007, 0.17158080246034027, 0.996417153205249, 0.21978187447509628, 0.593009740796393, 0.04721415133729243, 0.02950884458580777, 0.11071718488595075, 0.9949285614370666, 0.0965938868957499, 0.9025491306821631, 0.9920208357892951, 0.129962361507312, 0.23958278817000125, 0.23619246569589747, 0.3938424607417238, 0.012625522825381357, 0.9847907803797459, 0.5326111931340833, 0.3080432019392904, 0.13111510374514504, 0.002951143814199406, 0.0254360490652425, 0.05348218614616063, 0.0006856690531559055, 0.011656373903650395, 0.3188361097174961, 0.6157308097340032, 0.004780452476367365, 0.23742913965957912, 0.7569049754248328, 0.996766942405738, 0.09787855947665491, 0.7041412786230996, 0.19721799297534948, 0.057429052419014054, 0.4096144461693533, 0.08372187159880362, 0.44697792605642267, 0.0027676651768199544, 0.12308638616532969, 0.7959586305357986, 0.08068996426393835, 0.18599091314934554, 0.42973061089538295, 0.19973114120855842, 0.14158408913188938, 0.04321202157752461], \"Term\": [\"10\", \"activity\", \"activity\", \"airport\", \"airport\", \"always\", \"always\", \"always\", \"always\", \"amazing\", \"amazing\", \"amazing\", \"amazing\", \"ambience\", \"ambience\", \"amit\", \"anniversary\", \"appreciated\", \"architecture\", \"asked\", \"assistance\", \"assisted\", \"attention\", \"attention\", \"attention\", \"attention\", \"awesome\", \"awesome\", \"awesome\", \"bad\", \"banquet\", \"bar\", \"bar\", \"bar\", \"beach\", \"beautiful\", \"beautiful\", \"beautiful\", \"beautiful\", \"beautiful\", \"bed\", \"bed\", \"bed\", \"bell\", \"best\", \"best\", \"best\", \"best\", \"best\", \"bhatia\", \"birthday\", \"blu\", \"booked\", \"booked\", \"booked\", \"booked\", \"booking\", \"boy\", \"brand\", \"breakfast\", \"breakfast\", \"breakfast\", \"breakfast\", \"breakfast\", \"buffet\", \"buffet\", \"buffet\", \"buffet\", \"buffet\", \"ca\", \"cake\", \"call\", \"called\", \"came\", \"came\", \"came\", \"care\", \"care\", \"care\", \"care\", \"care\", \"celebrate\", \"celebration\", \"center\", \"centrally\", \"ceremony\", \"chanakya\", \"chanakya\", \"check\", \"check\", \"check\", \"check\", \"check\", \"checked\", \"checked\", \"checked\", \"chef\", \"chef\", \"chinese\", \"chinese\", \"choice\", \"choice\", \"cidade\", \"clean\", \"clean\", \"cleanliness\", \"club\", \"co\", \"cold\", \"colleague\", \"come\", \"come\", \"come\", \"come\", \"comfort\", \"comfortable\", \"comfortable\", \"comfortable\", \"comfortable\", \"concierge\", \"concierge\", \"concierge\", \"cooperative\", \"could\", \"could\", \"could\", \"could\", \"courteous\", \"courteous\", \"courteous\", \"courteous\", \"cozy\", \"credit\", \"daughter\", \"day\", \"day\", \"day\", \"day\", \"day\", \"de\", \"decoration\", \"decoration\", \"deepak\", \"deepak\", \"delhi\", \"desk\", \"desk\", \"desk\", \"desk\", \"desk\", \"disappointed\", \"dish\", \"dish\", \"dish\", \"distance\", \"door\", \"door\", \"drop\", \"early\", \"early\", \"efficient\", \"effort\", \"effort\", \"engagement\", \"enter\", \"equipped\", \"equipped\", \"especially\", \"especially\", \"especially\", \"especially\", \"even\", \"even\", \"even\", \"even\", \"even\", \"event\", \"every\", \"every\", \"every\", \"every\", \"every\", \"excellent\", \"excellent\", \"excellent\", \"excellent\", \"excellent\", \"expect\", \"expect\", \"experience\", \"experience\", \"experience\", \"experience\", \"experience\", \"facility\", \"facility\", \"facility\", \"facing\", \"family\", \"family\", \"family\", \"family\", \"family\", \"feel\", \"feel\", \"feel\", \"feel\", \"feel\", \"flight\", \"floor\", \"floor\", \"floor\", \"food\", \"food\", \"food\", \"food\", \"food\", \"free\", \"friendly\", \"friendly\", \"friendly\", \"friendly\", \"friendly\", \"front\", \"front\", \"front\", \"front\", \"front\", \"furnished\", \"get\", \"get\", \"get\", \"get\", \"goan\", \"good\", \"good\", \"good\", \"good\", \"got\", \"got\", \"got\", \"got\", \"got\", \"grand\", \"great\", \"great\", \"great\", \"great\", \"great\", \"green\", \"greenery\", \"ground\", \"guest\", \"guest\", \"guest\", \"guest\", \"guest\", \"gym\", \"hand\", \"helpful\", \"helpful\", \"helpful\", \"helpful\", \"hicc\", \"high\", \"high\", \"high\", \"hospitality\", \"hospitality\", \"hospitality\", \"hospitality\", \"hospitality\", \"hotel\", \"hotel\", \"hotel\", \"hotel\", \"hotel\", \"hour\", \"hour\", \"however\", \"however\", \"humble\", \"husband\", \"hyatt\", \"improved\", \"india\", \"india\", \"india\", \"inn\", \"issue\", \"issue\", \"itc\", \"jehan\", \"ji\", \"jw\", \"jw\", \"kajol\", \"kajol\", \"keep\", \"keep\", \"keep\", \"keep\", \"keep\", \"kudos\", \"kunju\", \"lalit\", \"lalit\", \"lawn\", \"le\", \"le\", \"leela\", \"leisure\", \"lemon\", \"let\", \"let\", \"like\", \"like\", \"like\", \"like\", \"like\", \"located\", \"located\", \"location\", \"location\", \"location\", \"lounge\", \"lounge\", \"lounge\", \"love\", \"love\", \"love\", \"love\", \"luck\", \"lucknow\", \"made\", \"made\", \"made\", \"made\", \"maintained\", \"maintained\", \"make\", \"make\", \"make\", \"make\", \"make\", \"making\", \"making\", \"making\", \"making\", \"making\", \"manish\", \"manisha\", \"manoj\", \"marriage\", \"memorable\", \"memory\", \"mention\", \"mention\", \"mention\", \"mention\", \"mention\", \"min\", \"mind\", \"mishra\", \"mouth\", \"mr\", \"mr\", \"ms\", \"mukesh\", \"nagpur\", \"nd\", \"near\", \"near\", \"neat\", \"need\", \"need\", \"need\", \"need\", \"never\", \"never\", \"never\", \"new\", \"new\", \"new\", \"new\", \"nice\", \"nice\", \"nice\", \"night\", \"night\", \"night\", \"night\", \"numa\", \"oberoi\", \"oberoi\", \"ocean\", \"old\", \"old\", \"one\", \"one\", \"one\", \"one\", \"one\", \"option\", \"option\", \"option\", \"otherwise\", \"overall\", \"overall\", \"overall\", \"overall\", \"palace\", \"palace\", \"par\", \"parent\", \"particularly\", \"past\", \"people\", \"people\", \"people\", \"people\", \"phone\", \"pick\", \"place\", \"place\", \"place\", \"place\", \"place\", \"pm\", \"pond\", \"pool\", \"pool\", \"poor\", \"pradeep\", \"private\", \"private\", \"problem\", \"problem\", \"problem\", \"property\", \"property\", \"property\", \"property\", \"property\", \"rajkumar\", \"range\", \"rashmani\", \"ready\", \"ready\", \"real\", \"really\", \"really\", \"really\", \"really\", \"really\", \"recent\", \"reception\", \"reception\", \"reception\", \"reception\", \"reception\", \"regard\", \"regency\", \"requested\", \"requested\", \"resort\", \"restaurant\", \"restaurant\", \"restaurant\", \"restaurant\", \"restaurant\", \"review\", \"rohit\", \"room\", \"room\", \"room\", \"room\", \"room\", \"said\", \"santosh\", \"say\", \"say\", \"say\", \"say\", \"sayaji\", \"sea\", \"seems\", \"serf\", \"service\", \"service\", \"service\", \"service\", \"service\", \"several\", \"short\", \"short\", \"shower\", \"shower\", \"shower\", \"single\", \"sister\", \"smoking\", \"someone\", \"son\", \"sonar\", \"south\", \"south\", \"south\", \"spacious\", \"spacious\", \"special\", \"special\", \"special\", \"specially\", \"specially\", \"specially\", \"sport\", \"spread\", \"spread\", \"spread\", \"staff\", \"staff\", \"staff\", \"staff\", \"staff\", \"star\", \"star\", \"star\", \"star\", \"stay\", \"stay\", \"stay\", \"stay\", \"stay\", \"stayed\", \"stayed\", \"stayed\", \"stayed\", \"stayed\", \"step\", \"still\", \"stunning\", \"style\", \"suite\", \"suite\", \"suite\", \"sujoy\", \"sunday\", \"support\", \"sure\", \"sure\", \"sure\", \"sure\", \"swimming\", \"taj\", \"taj\", \"taj\", \"take\", \"take\", \"take\", \"take\", \"take\", \"tea\", \"team\", \"team\", \"thank\", \"thank\", \"thanks\", \"thanks\", \"thankyou\", \"thing\", \"thing\", \"thing\", \"thing\", \"thing\", \"tidy\", \"time\", \"time\", \"time\", \"time\", \"time\", \"told\", \"took\", \"took\", \"took\", \"took\", \"took\", \"tree\", \"tree\", \"tree\", \"truly\", \"truly\", \"truly\", \"truly\", \"unique\", \"value\", \"value\", \"variety\", \"variety\", \"various\", \"varsha\", \"veg\", \"view\", \"view\", \"vijay\", \"visit\", \"visit\", \"visit\", \"visit\", \"visit\", \"vizag\", \"warmth\", \"warmth\", \"watering\", \"way\", \"way\", \"way\", \"way\", \"welcomed\", \"welcomed\", \"well\", \"well\", \"well\", \"well\", \"well\", \"went\", \"went\", \"went\", \"went\", \"went\", \"wife\", \"wife\", \"wife\", \"wifi\", \"without\", \"without\", \"without\", \"work\", \"work\", \"work\", \"work\", \"work\", \"world\", \"world\", \"world\", \"would\", \"would\", \"would\", \"would\", \"would\"]}, \"R\": 30, \"lambda.step\": 0.01, \"plot.opts\": {\"xlab\": \"PC1\", \"ylab\": \"PC2\"}, \"topic.order\": [1, 4, 2, 5, 3]};\n",
       "\n",
       "function LDAvis_load_lib(url, callback){\n",
       "  var s = document.createElement('script');\n",
       "  s.src = url;\n",
       "  s.async = true;\n",
       "  s.onreadystatechange = s.onload = callback;\n",
       "  s.onerror = function(){console.warn(\"failed to load library \" + url);};\n",
       "  document.getElementsByTagName(\"head\")[0].appendChild(s);\n",
       "}\n",
       "\n",
       "if(typeof(LDAvis) !== \"undefined\"){\n",
       "   // already loaded: just create the visualization\n",
       "   !function(LDAvis){\n",
       "       new LDAvis(\"#\" + \"ldavis_el2878831465075296966485341275\", ldavis_el2878831465075296966485341275_data);\n",
       "   }(LDAvis);\n",
       "}else if(typeof define === \"function\" && define.amd){\n",
       "   // require.js is available: use it to load d3/LDAvis\n",
       "   require.config({paths: {d3: \"https://cdnjs.cloudflare.com/ajax/libs/d3/3.5.5/d3.min\"}});\n",
       "   require([\"d3\"], function(d3){\n",
       "      window.d3 = d3;\n",
       "      LDAvis_load_lib(\"https://cdn.rawgit.com/bmabey/pyLDAvis/files/ldavis.v1.0.0.js\", function(){\n",
       "        new LDAvis(\"#\" + \"ldavis_el2878831465075296966485341275\", ldavis_el2878831465075296966485341275_data);\n",
       "      });\n",
       "    });\n",
       "}else{\n",
       "    // require.js not available: dynamically load d3 & LDAvis\n",
       "    LDAvis_load_lib(\"https://cdnjs.cloudflare.com/ajax/libs/d3/3.5.5/d3.min.js\", function(){\n",
       "         LDAvis_load_lib(\"https://cdn.rawgit.com/bmabey/pyLDAvis/files/ldavis.v1.0.0.js\", function(){\n",
       "                 new LDAvis(\"#\" + \"ldavis_el2878831465075296966485341275\", ldavis_el2878831465075296966485341275_data);\n",
       "            })\n",
       "         });\n",
       "}\n",
       "</script>"
      ],
      "text/plain": [
       "<IPython.core.display.HTML object>"
      ]
     },
     "execution_count": 119,
     "metadata": {},
     "output_type": "execute_result"
    }
   ],
   "source": [
    "pyLDAvis.display(panel)"
   ]
  },
  {
   "cell_type": "code",
   "execution_count": 136,
   "metadata": {},
   "outputs": [],
   "source": [
    "pyLDAvis.save_html(panel,'lda.html')"
   ]
  }
 ],
 "metadata": {
  "kernelspec": {
   "display_name": "Python 3.7.1 64-bit",
   "language": "python",
   "name": "python37164bit144b94c900894a7391c8f640d79f9a3e"
  },
  "language_info": {
   "codemirror_mode": {
    "name": "ipython",
    "version": 3
   },
   "file_extension": ".py",
   "mimetype": "text/x-python",
   "name": "python",
   "nbconvert_exporter": "python",
   "pygments_lexer": "ipython3",
   "version": "3.7.1"
  }
 },
 "nbformat": 4,
 "nbformat_minor": 2
}
